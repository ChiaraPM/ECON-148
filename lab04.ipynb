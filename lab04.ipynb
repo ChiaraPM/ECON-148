{
 "cells": [
  {
   "cell_type": "code",
   "execution_count": 1,
   "id": "911d163b",
   "metadata": {
    "deletable": false,
    "editable": false
   },
   "outputs": [],
   "source": [
    "# Initialize Otter\n",
    "import otter\n",
    "grader = otter.Notebook(\"lab04.ipynb\")"
   ]
  },
  {
   "cell_type": "code",
   "execution_count": 2,
   "id": "af051b90",
   "metadata": {},
   "outputs": [],
   "source": [
    "import pandas as pd\n",
    "import numpy as np\n",
    "import sqlalchemy\n",
    "from pathlib import Path\n",
    "%load_ext sql"
   ]
  },
  {
   "cell_type": "markdown",
   "id": "9afeedcf",
   "metadata": {},
   "source": [
    "# Lab 4: SQL \n",
    "This notebook is an introduction to SQL. We will be working with a two SQLite datasets: the International Debt Database collected by [the World Bank](https://www.worldbank.org/en/programs/debt-statistics/ids#standard), and a dataset of each country's [PPP](https://www.investopedia.com/updates/purchasing-power-parity-ppp/) (purchasing power parity), as collected by the Organisation for Economic Co-operation and Development (OECD; dataset source [here](https://data.oecd.org/gdp/gross-domestic-product-gdp.htm#indicator-chart)). We are going to explore several questions, some of which include:\n",
    "\n",
    "- How much debt do various countries have?\n",
    "- What are the different debt indicators?\n",
    "- How can we calculate the debt ratio for each country?\n",
    "- How can we translate between SQL and Pandas queries?\n",
    "\n",
    "We will be working with these datasets via [SQL magic functions](https://jupyter-tutorial.readthedocs.io/en/stable/data-processing/postgresql/ipython-sql.html), more information included in part 1. "
   ]
  },
  {
   "cell_type": "markdown",
   "id": "86565362",
   "metadata": {},
   "source": [
    "### Learning Objectives: \n",
    "- Practice basic SQL queries\n",
    "- Translate between SQL queries and Pandas methods"
   ]
  },
  {
   "cell_type": "markdown",
   "id": "2c8747fc",
   "metadata": {},
   "source": [
    "## Setup"
   ]
  },
  {
   "cell_type": "markdown",
   "id": "e47c0c6c-7507-4d70-9c95-3a95bb1726c6",
   "metadata": {},
   "source": [
    "Please just run the cells below to set up your SQL database and the autograder."
   ]
  },
  {
   "cell_type": "code",
   "execution_count": 3,
   "id": "9a7f6d94-86f7-4a2a-83cc-7abe9072fecc",
   "metadata": {},
   "outputs": [],
   "source": [
    "# These lines specify the location of our database file\n",
    "dbfile = 'international_debt_3.db'\n",
    "tmpdb = Path('data') / dbfile\n",
    "\n",
    "# Specify the database connection path (in this case, a sqlite database in a file)\n",
    "sqlite_conn = 'sqlite:///' + str(tmpdb)"
   ]
  },
  {
   "cell_type": "code",
   "execution_count": 4,
   "id": "cf24652a-7223-40f3-82e9-c48013e1460f",
   "metadata": {},
   "outputs": [],
   "source": [
    "# Run this cell to connect to database\n",
    "engine = sqlalchemy.create_engine(sqlite_conn)\n",
    "connection = engine.connect()"
   ]
  },
  {
   "cell_type": "code",
   "execution_count": 5,
   "id": "06884de6-cf44-4936-8fe0-42625e872f6a",
   "metadata": {},
   "outputs": [],
   "source": [
    "%sql engine"
   ]
  },
  {
   "cell_type": "markdown",
   "id": "52a4eccf",
   "metadata": {},
   "source": [
    "In Jupyter Notebooks, a [cell 'magic' command](https://ipython.readthedocs.io/en/stable/interactive/magics.html) is a special command that is preceded by two percentage signs (%%). Cell magics operate on entire cells and are used to change the behavior of the entire cell. They are not part of the Python language itself but are specific to the Jupyter environment. They help us do a lot of cool things, like run SQL commands directly within Jupyter! Using cell magic, let's load in the database and see which datasets we have access to."
   ]
  },
  {
   "cell_type": "code",
   "execution_count": 6,
   "id": "aeb729eb",
   "metadata": {},
   "outputs": [
    {
     "data": {
      "text/html": [
       "<span style=\"None\">Running query in &#x27;sqlite:///data/international_debt_3.db&#x27;</span>"
      ],
      "text/plain": [
       "Running query in 'sqlite:///data/international_debt_3.db'"
      ]
     },
     "metadata": {},
     "output_type": "display_data"
    },
    {
     "data": {
      "text/html": [
       "<table>\n",
       "    <thead>\n",
       "        <tr>\n",
       "            <th>type</th>\n",
       "            <th>name</th>\n",
       "            <th>tbl_name</th>\n",
       "            <th>rootpage</th>\n",
       "            <th>sql</th>\n",
       "        </tr>\n",
       "    </thead>\n",
       "    <tbody>\n",
       "        <tr>\n",
       "            <td>table</td>\n",
       "            <td>debt</td>\n",
       "            <td>debt</td>\n",
       "            <td>2</td>\n",
       "            <td>CREATE TABLE debt (country_name CHAR (50), country_code CHAR (50), indicator_name TEXT, indicator_code TEXT, debt NUMERIC)</td>\n",
       "        </tr>\n",
       "        <tr>\n",
       "            <td>table</td>\n",
       "            <td>gdp_2022</td>\n",
       "            <td>gdp_2022</td>\n",
       "            <td>117</td>\n",
       "            <td>CREATE TABLE gdp_2022(<br>  LOCATION,<br>  MEASURE,<br>  FREQUENCY,<br>  TIME,<br>  Value,<br>  \"Flag Codes\"<br>)</td>\n",
       "        </tr>\n",
       "    </tbody>\n",
       "</table>\n",
       "<span style='font-style:italic;font-size:11px'><code>ResultSet</code> : to convert to pandas, call <a href='https://jupysql.ploomber.io/en/latest/integrations/pandas.html'><code>.DataFrame()</code></a> or to polars, call <a href='https://jupysql.ploomber.io/en/latest/integrations/polars.html'><code>.PolarsDataFrame()</code></a></span><br>"
      ],
      "text/plain": [
       "+-------+----------+----------+----------+----------------------------------------------------------------------------------------------------------------------------+\n",
       "|  type |   name   | tbl_name | rootpage |                                                            sql                                                             |\n",
       "+-------+----------+----------+----------+----------------------------------------------------------------------------------------------------------------------------+\n",
       "| table |   debt   |   debt   |    2     | CREATE TABLE debt (country_name CHAR (50), country_code CHAR (50), indicator_name TEXT, indicator_code TEXT, debt NUMERIC) |\n",
       "| table | gdp_2022 | gdp_2022 |   117    |                                                   CREATE TABLE gdp_2022(                                                   |\n",
       "|       |          |          |          |                                                          LOCATION,                                                         |\n",
       "|       |          |          |          |                                                           MEASURE,                                                         |\n",
       "|       |          |          |          |                                                          FREQUENCY,                                                        |\n",
       "|       |          |          |          |                                                            TIME,                                                           |\n",
       "|       |          |          |          |                                                            Value,                                                          |\n",
       "|       |          |          |          |                                                         \"Flag Codes\"                                                       |\n",
       "|       |          |          |          |                                                             )                                                              |\n",
       "+-------+----------+----------+----------+----------------------------------------------------------------------------------------------------------------------------+"
      ]
     },
     "execution_count": 6,
     "metadata": {},
     "output_type": "execute_result"
    }
   ],
   "source": [
    "%%sql\n",
    "-- just run this cell --\n",
    "SELECT * FROM sqlite_master WHERE type='table';"
   ]
  },
  {
   "cell_type": "markdown",
   "id": "dbd9fe4f",
   "metadata": {},
   "source": [
    "From running the above cell, we see that our database has two tables, `debt` and `gdp_2022`, both of which we will explore further in this notebook."
   ]
  },
  {
   "cell_type": "markdown",
   "id": "76350f77",
   "metadata": {},
   "source": [
    "---\n",
    "## Part 1: Exploring the Data"
   ]
  },
  {
   "cell_type": "markdown",
   "id": "1aad344b",
   "metadata": {},
   "source": [
    "We can read in data from the SQL database using SQL queries. As a very simple example, the cell below reads in the first 100 rows from the `debt` table. Despite us reading in 100 rows, the restrictions of this Jupyter notebook only display 10 at a time.\n"
   ]
  },
  {
   "cell_type": "code",
   "execution_count": 7,
   "id": "e04fd6aa-2518-4e24-9a0a-9533082941ab",
   "metadata": {},
   "outputs": [
    {
     "data": {
      "text/html": [
       "<span style=\"None\">Running query in &#x27;sqlite:///data/international_debt_3.db&#x27;</span>"
      ],
      "text/plain": [
       "Running query in 'sqlite:///data/international_debt_3.db'"
      ]
     },
     "metadata": {},
     "output_type": "display_data"
    },
    {
     "data": {
      "text/html": [
       "<table>\n",
       "    <thead>\n",
       "        <tr>\n",
       "            <th>country_name</th>\n",
       "            <th>country_code</th>\n",
       "            <th>indicator_name</th>\n",
       "            <th>indicator_code</th>\n",
       "            <th>debt</th>\n",
       "        </tr>\n",
       "    </thead>\n",
       "    <tbody>\n",
       "        <tr>\n",
       "            <td>Afghanistan</td>\n",
       "            <td>AFG</td>\n",
       "            <td>Disbursements on external debt, long-term (DIS, current US$)</td>\n",
       "            <td>DT.DIS.DLXF.CD</td>\n",
       "            <td>72894453.7</td>\n",
       "        </tr>\n",
       "        <tr>\n",
       "            <td>Afghanistan</td>\n",
       "            <td>AFG</td>\n",
       "            <td>Interest payments on external debt, long-term (INT, current US$)</td>\n",
       "            <td>DT.INT.DLXF.CD</td>\n",
       "            <td>53239440.1</td>\n",
       "        </tr>\n",
       "        <tr>\n",
       "            <td>Afghanistan</td>\n",
       "            <td>AFG</td>\n",
       "            <td>PPG, bilateral (AMT, current US$)</td>\n",
       "            <td>DT.AMT.BLAT.CD</td>\n",
       "            <td>61739336.9</td>\n",
       "        </tr>\n",
       "        <tr>\n",
       "            <td>Afghanistan</td>\n",
       "            <td>AFG</td>\n",
       "            <td>PPG, bilateral (DIS, current US$)</td>\n",
       "            <td>DT.DIS.BLAT.CD</td>\n",
       "            <td>49114729.4</td>\n",
       "        </tr>\n",
       "        <tr>\n",
       "            <td>Afghanistan</td>\n",
       "            <td>AFG</td>\n",
       "            <td>PPG, bilateral (INT, current US$)</td>\n",
       "            <td>DT.INT.BLAT.CD</td>\n",
       "            <td>39903620.1</td>\n",
       "        </tr>\n",
       "        <tr>\n",
       "            <td>Afghanistan</td>\n",
       "            <td>AFG</td>\n",
       "            <td>PPG, multilateral (AMT, current US$)</td>\n",
       "            <td>DT.AMT.MLAT.CD</td>\n",
       "            <td>39107845</td>\n",
       "        </tr>\n",
       "        <tr>\n",
       "            <td>Afghanistan</td>\n",
       "            <td>AFG</td>\n",
       "            <td>PPG, multilateral (DIS, current US$)</td>\n",
       "            <td>DT.DIS.MLAT.CD</td>\n",
       "            <td>23779724.3</td>\n",
       "        </tr>\n",
       "        <tr>\n",
       "            <td>Afghanistan</td>\n",
       "            <td>AFG</td>\n",
       "            <td>PPG, multilateral (INT, current US$)</td>\n",
       "            <td>DT.INT.MLAT.CD</td>\n",
       "            <td>13335820</td>\n",
       "        </tr>\n",
       "        <tr>\n",
       "            <td>Afghanistan</td>\n",
       "            <td>AFG</td>\n",
       "            <td>PPG, official creditors (AMT, current US$)</td>\n",
       "            <td>DT.AMT.OFFT.CD</td>\n",
       "            <td>100847181.9</td>\n",
       "        </tr>\n",
       "        <tr>\n",
       "            <td>Afghanistan</td>\n",
       "            <td>AFG</td>\n",
       "            <td>PPG, official creditors (DIS, current US$)</td>\n",
       "            <td>DT.DIS.OFFT.CD</td>\n",
       "            <td>72894453.7</td>\n",
       "        </tr>\n",
       "    </tbody>\n",
       "</table>\n",
       "<span style='font-style:italic;font-size:11px'><code>ResultSet</code> : to convert to pandas, call <a href='https://jupysql.ploomber.io/en/latest/integrations/pandas.html'><code>.DataFrame()</code></a> or to polars, call <a href='https://jupysql.ploomber.io/en/latest/integrations/polars.html'><code>.PolarsDataFrame()</code></a></span><br>\n",
       "<span style=\"font-style:italic;text-align:center;\">Truncated to displaylimit of 10</span><br><span style=\"font-style:italic;text-align:center;\">If you want to see more, please visit <a href=\"https://jupysql.ploomber.io/en/latest/api/configuration.html#displaylimit\">displaylimit</a> configuration</span>"
      ],
      "text/plain": [
       "+--------------+--------------+------------------------------------------------------------------+----------------+-------------+\n",
       "| country_name | country_code |                          indicator_name                          | indicator_code |     debt    |\n",
       "+--------------+--------------+------------------------------------------------------------------+----------------+-------------+\n",
       "| Afghanistan  |     AFG      |   Disbursements on external debt, long-term (DIS, current US$)   | DT.DIS.DLXF.CD |  72894453.7 |\n",
       "| Afghanistan  |     AFG      | Interest payments on external debt, long-term (INT, current US$) | DT.INT.DLXF.CD |  53239440.1 |\n",
       "| Afghanistan  |     AFG      |                PPG, bilateral (AMT, current US$)                 | DT.AMT.BLAT.CD |  61739336.9 |\n",
       "| Afghanistan  |     AFG      |                PPG, bilateral (DIS, current US$)                 | DT.DIS.BLAT.CD |  49114729.4 |\n",
       "| Afghanistan  |     AFG      |                PPG, bilateral (INT, current US$)                 | DT.INT.BLAT.CD |  39903620.1 |\n",
       "| Afghanistan  |     AFG      |               PPG, multilateral (AMT, current US$)               | DT.AMT.MLAT.CD |   39107845  |\n",
       "| Afghanistan  |     AFG      |               PPG, multilateral (DIS, current US$)               | DT.DIS.MLAT.CD |  23779724.3 |\n",
       "| Afghanistan  |     AFG      |               PPG, multilateral (INT, current US$)               | DT.INT.MLAT.CD |   13335820  |\n",
       "| Afghanistan  |     AFG      |            PPG, official creditors (AMT, current US$)            | DT.AMT.OFFT.CD | 100847181.9 |\n",
       "| Afghanistan  |     AFG      |            PPG, official creditors (DIS, current US$)            | DT.DIS.OFFT.CD |  72894453.7 |\n",
       "+--------------+--------------+------------------------------------------------------------------+----------------+-------------+"
      ]
     },
     "execution_count": 7,
     "metadata": {},
     "output_type": "execute_result"
    }
   ],
   "source": [
    "%%sql\n",
    "SELECT *\n",
    "FROM debt\n",
    "LIMIT 100"
   ]
  },
  {
   "cell_type": "markdown",
   "id": "f5533299-37ab-4446-baa3-1f24fd7fd04f",
   "metadata": {},
   "source": [
    "<div class=\"alert alert-info\">\n",
    "\n",
    "**Note:** SQL is designed for very fast and efficient use with extremely large databases. However, if you try to access all the rows at once, SQL won't prevent them from being returned. This could crash your computer as you may not have enough space to accommodate such a large output. Please always `LIMIT` your SQL queries unless you are 100% sure the output will not be excessively large. \n",
    "\n",
    "While the datasets in this lab are small enough to not crash your computer, it is still generally a good practice to limit your outputs while you're brainstorming different chunks of code. However, please do not limit your final answer as that may cause the autograder to not work.\n",
    "\n",
    "</div>"
   ]
  },
  {
   "cell_type": "markdown",
   "id": "7b44d7af-8b44-45ed-97ab-e7fda78d5c63",
   "metadata": {},
   "source": [
    "Notice how the output of the SQL command is not a pandas DataFrame. Instead, it's a SQL [Result Set](https://docs.oracle.com/cd/E17952_01/x-devapi-userguide-en/working-with-sql-result-sets.html). You can easily convert it to a dataframe by storing the ResultSet object and calling `.DataFrame()` on it. To store the ResultSet object, just add `res_(the_name) <<` after your `%%sql` call. By doing this, `res_(the_name)` will be assigned to a variable containing the actual ResultSet output, which you can convert to a dataframe easily. An example is shown below."
   ]
  },
  {
   "cell_type": "code",
   "execution_count": 8,
   "id": "7f9b433c-53ba-4256-a7e7-3440791310d8",
   "metadata": {},
   "outputs": [
    {
     "data": {
      "text/html": [
       "<span style=\"None\">Running query in &#x27;sqlite:///data/international_debt_3.db&#x27;</span>"
      ],
      "text/plain": [
       "Running query in 'sqlite:///data/international_debt_3.db'"
      ]
     },
     "metadata": {},
     "output_type": "display_data"
    }
   ],
   "source": [
    "%%sql res_example1 <<\n",
    "/* hi */\n",
    "SELECT *\n",
    "FROM debt"
   ]
  },
  {
   "cell_type": "code",
   "execution_count": 9,
   "id": "ae3ce718-34f6-428b-a38e-8d1d17f37444",
   "metadata": {},
   "outputs": [
    {
     "data": {
      "text/html": [
       "<table>\n",
       "    <thead>\n",
       "        <tr>\n",
       "            <th>country_name</th>\n",
       "            <th>country_code</th>\n",
       "            <th>indicator_name</th>\n",
       "            <th>indicator_code</th>\n",
       "            <th>debt</th>\n",
       "        </tr>\n",
       "    </thead>\n",
       "    <tbody>\n",
       "        <tr>\n",
       "            <td>Afghanistan</td>\n",
       "            <td>AFG</td>\n",
       "            <td>Disbursements on external debt, long-term (DIS, current US$)</td>\n",
       "            <td>DT.DIS.DLXF.CD</td>\n",
       "            <td>72894453.7</td>\n",
       "        </tr>\n",
       "        <tr>\n",
       "            <td>Afghanistan</td>\n",
       "            <td>AFG</td>\n",
       "            <td>Interest payments on external debt, long-term (INT, current US$)</td>\n",
       "            <td>DT.INT.DLXF.CD</td>\n",
       "            <td>53239440.1</td>\n",
       "        </tr>\n",
       "        <tr>\n",
       "            <td>Afghanistan</td>\n",
       "            <td>AFG</td>\n",
       "            <td>PPG, bilateral (AMT, current US$)</td>\n",
       "            <td>DT.AMT.BLAT.CD</td>\n",
       "            <td>61739336.9</td>\n",
       "        </tr>\n",
       "        <tr>\n",
       "            <td>Afghanistan</td>\n",
       "            <td>AFG</td>\n",
       "            <td>PPG, bilateral (DIS, current US$)</td>\n",
       "            <td>DT.DIS.BLAT.CD</td>\n",
       "            <td>49114729.4</td>\n",
       "        </tr>\n",
       "        <tr>\n",
       "            <td>Afghanistan</td>\n",
       "            <td>AFG</td>\n",
       "            <td>PPG, bilateral (INT, current US$)</td>\n",
       "            <td>DT.INT.BLAT.CD</td>\n",
       "            <td>39903620.1</td>\n",
       "        </tr>\n",
       "        <tr>\n",
       "            <td>Afghanistan</td>\n",
       "            <td>AFG</td>\n",
       "            <td>PPG, multilateral (AMT, current US$)</td>\n",
       "            <td>DT.AMT.MLAT.CD</td>\n",
       "            <td>39107845</td>\n",
       "        </tr>\n",
       "        <tr>\n",
       "            <td>Afghanistan</td>\n",
       "            <td>AFG</td>\n",
       "            <td>PPG, multilateral (DIS, current US$)</td>\n",
       "            <td>DT.DIS.MLAT.CD</td>\n",
       "            <td>23779724.3</td>\n",
       "        </tr>\n",
       "        <tr>\n",
       "            <td>Afghanistan</td>\n",
       "            <td>AFG</td>\n",
       "            <td>PPG, multilateral (INT, current US$)</td>\n",
       "            <td>DT.INT.MLAT.CD</td>\n",
       "            <td>13335820</td>\n",
       "        </tr>\n",
       "        <tr>\n",
       "            <td>Afghanistan</td>\n",
       "            <td>AFG</td>\n",
       "            <td>PPG, official creditors (AMT, current US$)</td>\n",
       "            <td>DT.AMT.OFFT.CD</td>\n",
       "            <td>100847181.9</td>\n",
       "        </tr>\n",
       "        <tr>\n",
       "            <td>Afghanistan</td>\n",
       "            <td>AFG</td>\n",
       "            <td>PPG, official creditors (DIS, current US$)</td>\n",
       "            <td>DT.DIS.OFFT.CD</td>\n",
       "            <td>72894453.7</td>\n",
       "        </tr>\n",
       "    </tbody>\n",
       "</table>\n",
       "<span style='font-style:italic;font-size:11px'><code>ResultSet</code> : to convert to pandas, call <a href='https://jupysql.ploomber.io/en/latest/integrations/pandas.html'><code>.DataFrame()</code></a> or to polars, call <a href='https://jupysql.ploomber.io/en/latest/integrations/polars.html'><code>.PolarsDataFrame()</code></a></span><br>\n",
       "<span style=\"font-style:italic;text-align:center;\">Truncated to displaylimit of 10</span><br><span style=\"font-style:italic;text-align:center;\">If you want to see more, please visit <a href=\"https://jupysql.ploomber.io/en/latest/api/configuration.html#displaylimit\">displaylimit</a> configuration</span>"
      ],
      "text/plain": [
       "+--------------+--------------+------------------------------------------------------------------+----------------+-------------+\n",
       "| country_name | country_code |                          indicator_name                          | indicator_code |     debt    |\n",
       "+--------------+--------------+------------------------------------------------------------------+----------------+-------------+\n",
       "| Afghanistan  |     AFG      |   Disbursements on external debt, long-term (DIS, current US$)   | DT.DIS.DLXF.CD |  72894453.7 |\n",
       "| Afghanistan  |     AFG      | Interest payments on external debt, long-term (INT, current US$) | DT.INT.DLXF.CD |  53239440.1 |\n",
       "| Afghanistan  |     AFG      |                PPG, bilateral (AMT, current US$)                 | DT.AMT.BLAT.CD |  61739336.9 |\n",
       "| Afghanistan  |     AFG      |                PPG, bilateral (DIS, current US$)                 | DT.DIS.BLAT.CD |  49114729.4 |\n",
       "| Afghanistan  |     AFG      |                PPG, bilateral (INT, current US$)                 | DT.INT.BLAT.CD |  39903620.1 |\n",
       "| Afghanistan  |     AFG      |               PPG, multilateral (AMT, current US$)               | DT.AMT.MLAT.CD |   39107845  |\n",
       "| Afghanistan  |     AFG      |               PPG, multilateral (DIS, current US$)               | DT.DIS.MLAT.CD |  23779724.3 |\n",
       "| Afghanistan  |     AFG      |               PPG, multilateral (INT, current US$)               | DT.INT.MLAT.CD |   13335820  |\n",
       "| Afghanistan  |     AFG      |            PPG, official creditors (AMT, current US$)            | DT.AMT.OFFT.CD | 100847181.9 |\n",
       "| Afghanistan  |     AFG      |            PPG, official creditors (DIS, current US$)            | DT.DIS.OFFT.CD |  72894453.7 |\n",
       "+--------------+--------------+------------------------------------------------------------------+----------------+-------------+"
      ]
     },
     "execution_count": 9,
     "metadata": {},
     "output_type": "execute_result"
    }
   ],
   "source": [
    "res_example1"
   ]
  },
  {
   "cell_type": "code",
   "execution_count": 10,
   "id": "740d1e25-4732-4a4f-a647-ab65aa27785d",
   "metadata": {},
   "outputs": [
    {
     "data": {
      "text/html": [
       "<div>\n",
       "<style scoped>\n",
       "    .dataframe tbody tr th:only-of-type {\n",
       "        vertical-align: middle;\n",
       "    }\n",
       "\n",
       "    .dataframe tbody tr th {\n",
       "        vertical-align: top;\n",
       "    }\n",
       "\n",
       "    .dataframe thead th {\n",
       "        text-align: right;\n",
       "    }\n",
       "</style>\n",
       "<table border=\"1\" class=\"dataframe\">\n",
       "  <thead>\n",
       "    <tr style=\"text-align: right;\">\n",
       "      <th></th>\n",
       "      <th>country_name</th>\n",
       "      <th>country_code</th>\n",
       "      <th>indicator_name</th>\n",
       "      <th>indicator_code</th>\n",
       "      <th>debt</th>\n",
       "    </tr>\n",
       "  </thead>\n",
       "  <tbody>\n",
       "    <tr>\n",
       "      <th>0</th>\n",
       "      <td>Afghanistan</td>\n",
       "      <td>AFG</td>\n",
       "      <td>Disbursements on external debt, long-term (DIS...</td>\n",
       "      <td>DT.DIS.DLXF.CD</td>\n",
       "      <td>72894453.7</td>\n",
       "    </tr>\n",
       "    <tr>\n",
       "      <th>1</th>\n",
       "      <td>Afghanistan</td>\n",
       "      <td>AFG</td>\n",
       "      <td>Interest payments on external debt, long-term ...</td>\n",
       "      <td>DT.INT.DLXF.CD</td>\n",
       "      <td>53239440.1</td>\n",
       "    </tr>\n",
       "    <tr>\n",
       "      <th>2</th>\n",
       "      <td>Afghanistan</td>\n",
       "      <td>AFG</td>\n",
       "      <td>PPG, bilateral (AMT, current US$)</td>\n",
       "      <td>DT.AMT.BLAT.CD</td>\n",
       "      <td>61739336.9</td>\n",
       "    </tr>\n",
       "    <tr>\n",
       "      <th>3</th>\n",
       "      <td>Afghanistan</td>\n",
       "      <td>AFG</td>\n",
       "      <td>PPG, bilateral (DIS, current US$)</td>\n",
       "      <td>DT.DIS.BLAT.CD</td>\n",
       "      <td>49114729.4</td>\n",
       "    </tr>\n",
       "    <tr>\n",
       "      <th>4</th>\n",
       "      <td>Afghanistan</td>\n",
       "      <td>AFG</td>\n",
       "      <td>PPG, bilateral (INT, current US$)</td>\n",
       "      <td>DT.INT.BLAT.CD</td>\n",
       "      <td>39903620.1</td>\n",
       "    </tr>\n",
       "    <tr>\n",
       "      <th>...</th>\n",
       "      <td>...</td>\n",
       "      <td>...</td>\n",
       "      <td>...</td>\n",
       "      <td>...</td>\n",
       "      <td>...</td>\n",
       "    </tr>\n",
       "    <tr>\n",
       "      <th>2352</th>\n",
       "      <td>Zimbabwe</td>\n",
       "      <td>ZWE</td>\n",
       "      <td>PPG, official creditors (AMT, current US$)</td>\n",
       "      <td>DT.AMT.OFFT.CD</td>\n",
       "      <td>98492119.9</td>\n",
       "    </tr>\n",
       "    <tr>\n",
       "      <th>2353</th>\n",
       "      <td>Zimbabwe</td>\n",
       "      <td>ZWE</td>\n",
       "      <td>PPG, official creditors (DIS, current US$)</td>\n",
       "      <td>DT.DIS.OFFT.CD</td>\n",
       "      <td>44396033.7</td>\n",
       "    </tr>\n",
       "    <tr>\n",
       "      <th>2354</th>\n",
       "      <td>Zimbabwe</td>\n",
       "      <td>ZWE</td>\n",
       "      <td>PPG, official creditors (INT, current US$)</td>\n",
       "      <td>DT.INT.OFFT.CD</td>\n",
       "      <td>15761660.0</td>\n",
       "    </tr>\n",
       "    <tr>\n",
       "      <th>2355</th>\n",
       "      <td>Zimbabwe</td>\n",
       "      <td>ZWE</td>\n",
       "      <td>Principal repayments on external debt, long-te...</td>\n",
       "      <td>DT.AMT.DLXF.CD</td>\n",
       "      <td>461632253.7</td>\n",
       "    </tr>\n",
       "    <tr>\n",
       "      <th>2356</th>\n",
       "      <td>Zimbabwe</td>\n",
       "      <td>ZWE</td>\n",
       "      <td>Principal repayments on external debt, private...</td>\n",
       "      <td>DT.AMT.DPNG.CD</td>\n",
       "      <td>363140133.8</td>\n",
       "    </tr>\n",
       "  </tbody>\n",
       "</table>\n",
       "<p>2357 rows × 5 columns</p>\n",
       "</div>"
      ],
      "text/plain": [
       "     country_name country_code  \\\n",
       "0     Afghanistan          AFG   \n",
       "1     Afghanistan          AFG   \n",
       "2     Afghanistan          AFG   \n",
       "3     Afghanistan          AFG   \n",
       "4     Afghanistan          AFG   \n",
       "...           ...          ...   \n",
       "2352     Zimbabwe          ZWE   \n",
       "2353     Zimbabwe          ZWE   \n",
       "2354     Zimbabwe          ZWE   \n",
       "2355     Zimbabwe          ZWE   \n",
       "2356     Zimbabwe          ZWE   \n",
       "\n",
       "                                         indicator_name  indicator_code  \\\n",
       "0     Disbursements on external debt, long-term (DIS...  DT.DIS.DLXF.CD   \n",
       "1     Interest payments on external debt, long-term ...  DT.INT.DLXF.CD   \n",
       "2                     PPG, bilateral (AMT, current US$)  DT.AMT.BLAT.CD   \n",
       "3                     PPG, bilateral (DIS, current US$)  DT.DIS.BLAT.CD   \n",
       "4                     PPG, bilateral (INT, current US$)  DT.INT.BLAT.CD   \n",
       "...                                                 ...             ...   \n",
       "2352         PPG, official creditors (AMT, current US$)  DT.AMT.OFFT.CD   \n",
       "2353         PPG, official creditors (DIS, current US$)  DT.DIS.OFFT.CD   \n",
       "2354         PPG, official creditors (INT, current US$)  DT.INT.OFFT.CD   \n",
       "2355  Principal repayments on external debt, long-te...  DT.AMT.DLXF.CD   \n",
       "2356  Principal repayments on external debt, private...  DT.AMT.DPNG.CD   \n",
       "\n",
       "             debt  \n",
       "0      72894453.7  \n",
       "1      53239440.1  \n",
       "2      61739336.9  \n",
       "3      49114729.4  \n",
       "4      39903620.1  \n",
       "...           ...  \n",
       "2352   98492119.9  \n",
       "2353   44396033.7  \n",
       "2354   15761660.0  \n",
       "2355  461632253.7  \n",
       "2356  363140133.8  \n",
       "\n",
       "[2357 rows x 5 columns]"
      ]
     },
     "execution_count": 10,
     "metadata": {},
     "output_type": "execute_result"
    }
   ],
   "source": [
    "res_example1.DataFrame()"
   ]
  },
  {
   "cell_type": "markdown",
   "id": "24bfa2c8",
   "metadata": {},
   "source": [
    "Our autograder does something similar to access your SQL outputs, please **never** edit the first line of your answer."
   ]
  },
  {
   "cell_type": "markdown",
   "id": "5c668ace",
   "metadata": {
    "deletable": false,
    "editable": false
   },
   "source": [
    "**Question 1.1:** Write a query to select all values for Afghanistan from the `debt` table."
   ]
  },
  {
   "cell_type": "code",
   "execution_count": 11,
   "id": "d22394f5",
   "metadata": {
    "tags": []
   },
   "outputs": [
    {
     "data": {
      "text/html": [
       "<span style=\"None\">Running query in &#x27;sqlite:///data/international_debt_3.db&#x27;</span>"
      ],
      "text/plain": [
       "Running query in 'sqlite:///data/international_debt_3.db'"
      ]
     },
     "metadata": {},
     "output_type": "display_data"
    }
   ],
   "source": [
    "%%sql res_q1_1 <<SELECT * FROM debt WHERE country_name= 'Afghanistan';\n",
    "..."
   ]
  },
  {
   "cell_type": "code",
   "execution_count": 12,
   "id": "2da52d11",
   "metadata": {
    "deletable": false,
    "editable": false
   },
   "outputs": [
    {
     "data": {
      "text/html": [
       "<p><strong><pre style='display: inline;'>q1_1</pre></strong> passed! 🌈</p>"
      ],
      "text/plain": [
       "q1_1 results: All test cases passed!"
      ]
     },
     "execution_count": 12,
     "metadata": {},
     "output_type": "execute_result"
    }
   ],
   "source": [
    "grader.check(\"q1_1\")"
   ]
  },
  {
   "cell_type": "markdown",
   "id": "0e6af98e",
   "metadata": {
    "deletable": false,
    "editable": false
   },
   "source": [
    "**Question 1.2:** How many distinct countries are there in the dataset? Write a query that can help us answer this. Your query output should look like the following:\n",
    "\n",
    "| total_distinct_countries |\n",
    "| --- |\n",
    "| XXX |\n",
    "\n",
    "Hint: remember to rename the column. "
   ]
  },
  {
   "cell_type": "code",
   "execution_count": 13,
   "id": "a6039b2f",
   "metadata": {
    "tags": []
   },
   "outputs": [
    {
     "data": {
      "text/html": [
       "<span style=\"None\">Running query in &#x27;sqlite:///data/international_debt_3.db&#x27;</span>"
      ],
      "text/plain": [
       "Running query in 'sqlite:///data/international_debt_3.db'"
      ]
     },
     "metadata": {},
     "output_type": "display_data"
    }
   ],
   "source": [
    "%%sql res_q1_2 <<SELECT COUNT(DISTINCT country_name) AS total_distinct_countries FROM debt;\n",
    "..."
   ]
  },
  {
   "cell_type": "code",
   "execution_count": 14,
   "id": "2bdd1ee3",
   "metadata": {
    "deletable": false,
    "editable": false
   },
   "outputs": [
    {
     "data": {
      "text/html": [
       "<p><strong><pre style='display: inline;'>q1_2</pre></strong> passed! 🌈</p>"
      ],
      "text/plain": [
       "q1_2 results: All test cases passed!"
      ]
     },
     "execution_count": 14,
     "metadata": {},
     "output_type": "execute_result"
    }
   ],
   "source": [
    "grader.check(\"q1_2\")"
   ]
  },
  {
   "cell_type": "markdown",
   "id": "6bae8930",
   "metadata": {
    "deletable": false,
    "editable": false
   },
   "source": [
    "**Question 1.3:** What are the distinct debt indicators? Write a query that can help us answer this. And then order the result by the indicators in an alphabetical order. Your query output should look like the following:\n",
    "\n",
    "| | distinct_debt_indicators |\n",
    "| --- | --- |\n",
    "| 0 | DT.AMT.BLAT.CD |\n",
    "| 1 | DT.AMT.DLXF.CD |\n",
    "| 2 | ... (rows omitted) |\n",
    "\n",
    "Hint: remember to rename the column. "
   ]
  },
  {
   "cell_type": "code",
   "execution_count": 15,
   "id": "4c75393d",
   "metadata": {
    "tags": []
   },
   "outputs": [
    {
     "data": {
      "text/html": [
       "<span style=\"None\">Running query in &#x27;sqlite:///data/international_debt_3.db&#x27;</span>"
      ],
      "text/plain": [
       "Running query in 'sqlite:///data/international_debt_3.db'"
      ]
     },
     "metadata": {},
     "output_type": "display_data"
    }
   ],
   "source": [
    "%%sql res_q1_3 <<SELECT DISTINCT indicator_code AS distinct_debt_indicators FROM debt ORDER BY distinct_debt_indicators;\n",
    "...\n"
   ]
  },
  {
   "cell_type": "code",
   "execution_count": 16,
   "id": "675dbfe7",
   "metadata": {
    "deletable": false,
    "editable": false
   },
   "outputs": [
    {
     "data": {
      "text/html": [
       "<p><strong><pre style='display: inline;'>q1_3</pre></strong> passed! 🍀</p>"
      ],
      "text/plain": [
       "q1_3 results: All test cases passed!"
      ]
     },
     "execution_count": 16,
     "metadata": {},
     "output_type": "execute_result"
    }
   ],
   "source": [
    "grader.check(\"q1_3\")"
   ]
  },
  {
   "cell_type": "markdown",
   "id": "087e1738",
   "metadata": {
    "deletable": false,
    "editable": false
   },
   "source": [
    "**Question 1.4:** What is the total amount of debt for each country? Write a query that can help us answer this. And then order the result by the country name in an alphabetical order. Your query output should look like the following:\n",
    "\n",
    "| | country_name | total_debt |\n",
    "| --- | --- | --- |\n",
    "| 0 | Afghanistan | XXX |\n",
    "| 1 | Albania | XXX |\n",
    "| 2 |  | ... (rows omitted) |\n",
    "\n",
    "Hint: Assume that the total amount of debt is the sum of debt from all categories in the table. Remember to rename the column. "
   ]
  },
  {
   "cell_type": "code",
   "execution_count": 17,
   "id": "5fe5c174",
   "metadata": {
    "tags": []
   },
   "outputs": [
    {
     "data": {
      "text/html": [
       "<span style=\"None\">Running query in &#x27;sqlite:///data/international_debt_3.db&#x27;</span>"
      ],
      "text/plain": [
       "Running query in 'sqlite:///data/international_debt_3.db'"
      ]
     },
     "metadata": {},
     "output_type": "display_data"
    }
   ],
   "source": [
    "%%sql res_q1_4 <<SELECT country_name, SUM(debt) AS total_debt FROM debt GROUP BY country_name\n",
    "...\n"
   ]
  },
  {
   "cell_type": "code",
   "execution_count": 18,
   "id": "4d980fb4",
   "metadata": {
    "deletable": false,
    "editable": false
   },
   "outputs": [
    {
     "data": {
      "text/html": [
       "<p><strong><pre style='display: inline;'>q1_4</pre></strong> passed! 🎉</p>"
      ],
      "text/plain": [
       "q1_4 results: All test cases passed!"
      ]
     },
     "execution_count": 18,
     "metadata": {},
     "output_type": "execute_result"
    }
   ],
   "source": [
    "grader.check(\"q1_4\")"
   ]
  },
  {
   "cell_type": "markdown",
   "id": "d883e95c",
   "metadata": {
    "deletable": false,
    "editable": false
   },
   "source": [
    "**Question 1.5:** Which are the countries with largest debt? Similar to the last question, but order by the total amount of debt this time in a descending order. Break the tie (if any) by country name in an alphabetical order. Your query output should look like the following:\n",
    "\n",
    "| | country_name | total_debt |\n",
    "| --- | --- | --- |\n",
    "| 0 | China | XXX |\n",
    "| 1 | Brazil | XXX |\n",
    "| 2 |  | ... (rows omitted) |\n",
    "\n",
    "Hint: Assume that the total amount of debt is the sum of debt from all categories in the table. Remember to rename the column. "
   ]
  },
  {
   "cell_type": "code",
   "execution_count": 19,
   "id": "ac2eb283",
   "metadata": {
    "tags": []
   },
   "outputs": [
    {
     "data": {
      "text/html": [
       "<span style=\"None\">Running query in &#x27;sqlite:///data/international_debt_3.db&#x27;</span>"
      ],
      "text/plain": [
       "Running query in 'sqlite:///data/international_debt_3.db'"
      ]
     },
     "metadata": {},
     "output_type": "display_data"
    }
   ],
   "source": [
    "%%sql res_q1_5 <<SELECT country_name, SUM(debt) AS total_debt FROM debt GROUP BY country_name ORDER BY total_debt DESC, country_name;\n",
    "...\n"
   ]
  },
  {
   "cell_type": "code",
   "execution_count": 20,
   "id": "875e76dc",
   "metadata": {
    "deletable": false,
    "editable": false
   },
   "outputs": [
    {
     "data": {
      "text/html": [
       "<p><strong><pre style='display: inline;'>q1_5</pre></strong> passed! 🙌</p>"
      ],
      "text/plain": [
       "q1_5 results: All test cases passed!"
      ]
     },
     "execution_count": 20,
     "metadata": {},
     "output_type": "execute_result"
    }
   ],
   "source": [
    "grader.check(\"q1_5\")"
   ]
  },
  {
   "cell_type": "markdown",
   "id": "f9db0ee3",
   "metadata": {
    "deletable": false,
    "editable": false
   },
   "source": [
    "**Question 1.6:** What are the various types of debts and their totals for the developing countries in our data? Write a query that can help us answer this. Order by the total amount of debt for each category in a descending order. Your query output should look like the following:\n",
    "\n",
    "| | indicator_name | total_debt |\n",
    "| --- | --- | --- |\n",
    "| 0 | Principal repayments on external debt, long-te... | XXX |\n",
    "| 1 | Principal repayments on external debt, private... | XXX |\n",
    "| 2 |  | ... (rows omitted) |\n",
    "\n",
    "Hint: remember to rename the column. "
   ]
  },
  {
   "cell_type": "code",
   "execution_count": 21,
   "id": "18b49816",
   "metadata": {
    "scrolled": true,
    "tags": []
   },
   "outputs": [
    {
     "data": {
      "text/html": [
       "<span style=\"None\">Running query in &#x27;sqlite:///data/international_debt_3.db&#x27;</span>"
      ],
      "text/plain": [
       "Running query in 'sqlite:///data/international_debt_3.db'"
      ]
     },
     "metadata": {},
     "output_type": "display_data"
    }
   ],
   "source": [
    "%%sql res_q1_6 <<SELECT indicator_name, sum(debt) AS total_debt FROM debt GROUP BY indicator_name ORDER BY total_debt DESC;\n",
    "...\n"
   ]
  },
  {
   "cell_type": "code",
   "execution_count": 22,
   "id": "ee06321c",
   "metadata": {
    "deletable": false,
    "editable": false
   },
   "outputs": [
    {
     "data": {
      "text/html": [
       "<p><strong><pre style='display: inline;'>q1_6</pre></strong> passed! ✨</p>"
      ],
      "text/plain": [
       "q1_6 results: All test cases passed!"
      ]
     },
     "execution_count": 22,
     "metadata": {},
     "output_type": "execute_result"
    }
   ],
   "source": [
    "grader.check(\"q1_6\")"
   ]
  },
  {
   "cell_type": "markdown",
   "id": "3eb7e2c3",
   "metadata": {
    "deletable": false,
    "editable": false
   },
   "source": [
    "**Question 1.7:** Now we want to investigate further about the two countries with the largest debt--China and Brazil. Write a query that select only China and Brazil. Order by the debt category code in an alphabetical order, and break tie by country name in an alphabetical order. Your query output should look like the following:\n",
    "\n",
    "| | country_name | country_code\t| indicator_name | indicator_code | debt |\n",
    "| --- | --- | --- | --- | --- | --- |\n",
    "| 0 | Brazil | BRA | PPG, bilateral (AMT, current US\\$) | DT.AMT.BLAT.CD | XXX |\n",
    "| 1 | China | CHN | PPG, bilateral (AMT, current US\\$) | DT.AMT.BLAT.CD | XXX |\n",
    "| 2 |  |  |  |  | ... (rows omitted) |"
   ]
  },
  {
   "cell_type": "code",
   "execution_count": 23,
   "id": "14633849",
   "metadata": {
    "tags": []
   },
   "outputs": [
    {
     "data": {
      "text/html": [
       "<span style=\"None\">Running query in &#x27;sqlite:///data/international_debt_3.db&#x27;</span>"
      ],
      "text/plain": [
       "Running query in 'sqlite:///data/international_debt_3.db'"
      ]
     },
     "metadata": {},
     "output_type": "display_data"
    }
   ],
   "source": [
    "%%sql res_q1_7 <<SELECT * FROM debt WHERE country_name IN('Brazil','China') ORDER BY indicator_code, country_name;\n",
    "..."
   ]
  },
  {
   "cell_type": "code",
   "execution_count": 24,
   "id": "8fb2a90b-46c8-41a9-94a3-1a6bd21a62fd",
   "metadata": {},
   "outputs": [
    {
     "data": {
      "text/html": [
       "<table>\n",
       "    <thead>\n",
       "        <tr>\n",
       "            <th>country_name</th>\n",
       "            <th>country_code</th>\n",
       "            <th>indicator_name</th>\n",
       "            <th>indicator_code</th>\n",
       "            <th>debt</th>\n",
       "        </tr>\n",
       "    </thead>\n",
       "    <tbody>\n",
       "        <tr>\n",
       "            <td>Brazil</td>\n",
       "            <td>BRA</td>\n",
       "            <td>PPG, bilateral (AMT, current US$)</td>\n",
       "            <td>DT.AMT.BLAT.CD</td>\n",
       "            <td>2097380010.6</td>\n",
       "        </tr>\n",
       "        <tr>\n",
       "            <td>China</td>\n",
       "            <td>CHN</td>\n",
       "            <td>PPG, bilateral (AMT, current US$)</td>\n",
       "            <td>DT.AMT.BLAT.CD</td>\n",
       "            <td>6532446441.9</td>\n",
       "        </tr>\n",
       "        <tr>\n",
       "            <td>Brazil</td>\n",
       "            <td>BRA</td>\n",
       "            <td>Principal repayments on external debt, long-term (AMT, current US$)</td>\n",
       "            <td>DT.AMT.DLXF.CD</td>\n",
       "            <td>90041840304.1</td>\n",
       "        </tr>\n",
       "        <tr>\n",
       "            <td>China</td>\n",
       "            <td>CHN</td>\n",
       "            <td>Principal repayments on external debt, long-term (AMT, current US$)</td>\n",
       "            <td>DT.AMT.DLXF.CD</td>\n",
       "            <td>96218620835.7</td>\n",
       "        </tr>\n",
       "        <tr>\n",
       "            <td>Brazil</td>\n",
       "            <td>BRA</td>\n",
       "            <td>Principal repayments on external debt, private nonguaranteed (PNG) (AMT, current US$)</td>\n",
       "            <td>DT.AMT.DPNG.CD</td>\n",
       "            <td>41831444053.3</td>\n",
       "        </tr>\n",
       "        <tr>\n",
       "            <td>China</td>\n",
       "            <td>CHN</td>\n",
       "            <td>Principal repayments on external debt, private nonguaranteed (PNG) (AMT, current US$)</td>\n",
       "            <td>DT.AMT.DPNG.CD</td>\n",
       "            <td>72392986213.8</td>\n",
       "        </tr>\n",
       "        <tr>\n",
       "            <td>Brazil</td>\n",
       "            <td>BRA</td>\n",
       "            <td>PPG, multilateral (AMT, current US$)</td>\n",
       "            <td>DT.AMT.MLAT.CD</td>\n",
       "            <td>2514318741.6</td>\n",
       "        </tr>\n",
       "        <tr>\n",
       "            <td>China</td>\n",
       "            <td>CHN</td>\n",
       "            <td>PPG, multilateral (AMT, current US$)</td>\n",
       "            <td>DT.AMT.MLAT.CD</td>\n",
       "            <td>2615723714.1</td>\n",
       "        </tr>\n",
       "        <tr>\n",
       "            <td>Brazil</td>\n",
       "            <td>BRA</td>\n",
       "            <td>PPG, official creditors (AMT, current US$)</td>\n",
       "            <td>DT.AMT.OFFT.CD</td>\n",
       "            <td>4611698752.2</td>\n",
       "        </tr>\n",
       "        <tr>\n",
       "            <td>China</td>\n",
       "            <td>CHN</td>\n",
       "            <td>PPG, official creditors (AMT, current US$)</td>\n",
       "            <td>DT.AMT.OFFT.CD</td>\n",
       "            <td>9148170156</td>\n",
       "        </tr>\n",
       "    </tbody>\n",
       "</table>\n",
       "<span style='font-style:italic;font-size:11px'><code>ResultSet</code> : to convert to pandas, call <a href='https://jupysql.ploomber.io/en/latest/integrations/pandas.html'><code>.DataFrame()</code></a> or to polars, call <a href='https://jupysql.ploomber.io/en/latest/integrations/polars.html'><code>.PolarsDataFrame()</code></a></span><br>\n",
       "<span style=\"font-style:italic;text-align:center;\">Truncated to displaylimit of 10</span><br><span style=\"font-style:italic;text-align:center;\">If you want to see more, please visit <a href=\"https://jupysql.ploomber.io/en/latest/api/configuration.html#displaylimit\">displaylimit</a> configuration</span>"
      ],
      "text/plain": [
       "+--------------+--------------+---------------------------------------------------------------------------------------+----------------+---------------+\n",
       "| country_name | country_code |                                     indicator_name                                    | indicator_code |      debt     |\n",
       "+--------------+--------------+---------------------------------------------------------------------------------------+----------------+---------------+\n",
       "|    Brazil    |     BRA      |                           PPG, bilateral (AMT, current US$)                           | DT.AMT.BLAT.CD |  2097380010.6 |\n",
       "|    China     |     CHN      |                           PPG, bilateral (AMT, current US$)                           | DT.AMT.BLAT.CD |  6532446441.9 |\n",
       "|    Brazil    |     BRA      |          Principal repayments on external debt, long-term (AMT, current US$)          | DT.AMT.DLXF.CD | 90041840304.1 |\n",
       "|    China     |     CHN      |          Principal repayments on external debt, long-term (AMT, current US$)          | DT.AMT.DLXF.CD | 96218620835.7 |\n",
       "|    Brazil    |     BRA      | Principal repayments on external debt, private nonguaranteed (PNG) (AMT, current US$) | DT.AMT.DPNG.CD | 41831444053.3 |\n",
       "|    China     |     CHN      | Principal repayments on external debt, private nonguaranteed (PNG) (AMT, current US$) | DT.AMT.DPNG.CD | 72392986213.8 |\n",
       "|    Brazil    |     BRA      |                          PPG, multilateral (AMT, current US$)                         | DT.AMT.MLAT.CD |  2514318741.6 |\n",
       "|    China     |     CHN      |                          PPG, multilateral (AMT, current US$)                         | DT.AMT.MLAT.CD |  2615723714.1 |\n",
       "|    Brazil    |     BRA      |                       PPG, official creditors (AMT, current US$)                      | DT.AMT.OFFT.CD |  4611698752.2 |\n",
       "|    China     |     CHN      |                       PPG, official creditors (AMT, current US$)                      | DT.AMT.OFFT.CD |   9148170156  |\n",
       "+--------------+--------------+---------------------------------------------------------------------------------------+----------------+---------------+"
      ]
     },
     "execution_count": 24,
     "metadata": {},
     "output_type": "execute_result"
    }
   ],
   "source": [
    "res_q1_7"
   ]
  },
  {
   "cell_type": "code",
   "execution_count": 25,
   "id": "ada08a0a",
   "metadata": {
    "deletable": false,
    "editable": false
   },
   "outputs": [
    {
     "data": {
      "text/html": [
       "<p><strong><pre style='display: inline;'>q1_7</pre></strong> passed! 🙌</p>"
      ],
      "text/plain": [
       "q1_7 results: All test cases passed!"
      ]
     },
     "execution_count": 25,
     "metadata": {},
     "output_type": "execute_result"
    }
   ],
   "source": [
    "grader.check(\"q1_7\")"
   ]
  },
  {
   "cell_type": "markdown",
   "id": "d7c545a1",
   "metadata": {
    "deletable": false,
    "editable": false
   },
   "source": [
    "<!-- BEGIN QUESTION -->\n",
    "\n",
    "**Question 1.8:** Look at the result above. Do you notice any big difference in the amount of debt in some categories between Brazil and China?"
   ]
  },
  {
   "cell_type": "markdown",
   "id": "ebced768",
   "metadata": {},
   "source": [
    "After adding the res_q1_7 in another line of code and seeing the table, it's easy to see where there are differences between the debt categories across the countries.\n",
    "\n",
    "I see a big difference in the category of: \n",
    "- PPG, official creditors (AMT, current USD); Brazil has a debt of USD4,611,698,752.2 USD, while China has a debt of 9,148,170,156 USD. This is almost double the size of Brazil's debt.\n",
    "\n",
    "  \n",
    "- PPG, bilateral (AMT, current US$); Brazil has a debt of 2,097,380,010.6 USD, while China has a debt of USD 6,532,446,441.9 USD. This is triple the size of Brazil's debt.\n",
    "\n",
    "  \n",
    "- Principal repayments on external debt, private nonguaranteed (PNG) (AMT, current USD); Brazil has a debt of 41,831,444,053.3 USD, while China has a debt of 72,392,986,213.8 USD This is almost double the size of the debt of Brazil."
   ]
  },
  {
   "cell_type": "markdown",
   "id": "97f28936-c625-406f-b56b-ea6614e4dbff",
   "metadata": {
    "deletable": false,
    "editable": false
   },
   "source": [
    "<!-- END QUESTION -->\n",
    "\n",
    "---\n",
    "## Part 2: Using multiple tables\n",
    "\n",
    "In this part, we will join our two SQL tables and do operations with them. First, let's take a look at the `gdp_2022` table."
   ]
  },
  {
   "cell_type": "code",
   "execution_count": 26,
   "id": "8de03d4a-64db-4610-9221-c31d624bd815",
   "metadata": {
    "scrolled": true
   },
   "outputs": [
    {
     "data": {
      "text/html": [
       "<span style=\"None\">Running query in &#x27;sqlite:///data/international_debt_3.db&#x27;</span>"
      ],
      "text/plain": [
       "Running query in 'sqlite:///data/international_debt_3.db'"
      ]
     },
     "metadata": {},
     "output_type": "display_data"
    },
    {
     "data": {
      "text/html": [
       "<table>\n",
       "    <thead>\n",
       "        <tr>\n",
       "            <th>LOCATION</th>\n",
       "            <th>MEASURE</th>\n",
       "            <th>FREQUENCY</th>\n",
       "            <th>TIME</th>\n",
       "            <th>Value</th>\n",
       "            <th>Flag Codes</th>\n",
       "        </tr>\n",
       "    </thead>\n",
       "    <tbody>\n",
       "        <tr>\n",
       "            <td>AUS</td>\n",
       "            <td>MLN_USD</td>\n",
       "            <td>A</td>\n",
       "            <td>2022</td>\n",
       "            <td>1804621.816</td>\n",
       "            <td></td>\n",
       "        </tr>\n",
       "        <tr>\n",
       "            <td>AUT</td>\n",
       "            <td>MLN_USD</td>\n",
       "            <td>A</td>\n",
       "            <td>2022</td>\n",
       "            <td>613714.889</td>\n",
       "            <td></td>\n",
       "        </tr>\n",
       "        <tr>\n",
       "            <td>BEL</td>\n",
       "            <td>MLN_USD</td>\n",
       "            <td>A</td>\n",
       "            <td>2022</td>\n",
       "            <td>765169.283</td>\n",
       "            <td>P</td>\n",
       "        </tr>\n",
       "        <tr>\n",
       "            <td>CAN</td>\n",
       "            <td>MLN_USD</td>\n",
       "            <td>A</td>\n",
       "            <td>2022</td>\n",
       "            <td>2271469.345</td>\n",
       "            <td></td>\n",
       "        </tr>\n",
       "        <tr>\n",
       "            <td>CZE</td>\n",
       "            <td>MLN_USD</td>\n",
       "            <td>A</td>\n",
       "            <td>2022</td>\n",
       "            <td>525014.413</td>\n",
       "            <td></td>\n",
       "        </tr>\n",
       "        <tr>\n",
       "            <td>DNK</td>\n",
       "            <td>MLN_USD</td>\n",
       "            <td>A</td>\n",
       "            <td>2022</td>\n",
       "            <td>442119.714</td>\n",
       "            <td></td>\n",
       "        </tr>\n",
       "        <tr>\n",
       "            <td>FIN</td>\n",
       "            <td>MLN_USD</td>\n",
       "            <td>A</td>\n",
       "            <td>2022</td>\n",
       "            <td>330422.255</td>\n",
       "            <td></td>\n",
       "        </tr>\n",
       "        <tr>\n",
       "            <td>FRA</td>\n",
       "            <td>MLN_USD</td>\n",
       "            <td>A</td>\n",
       "            <td>2022</td>\n",
       "            <td>3764758.779</td>\n",
       "            <td>P</td>\n",
       "        </tr>\n",
       "        <tr>\n",
       "            <td>DEU</td>\n",
       "            <td>MLN_USD</td>\n",
       "            <td>A</td>\n",
       "            <td>2022</td>\n",
       "            <td>5323008.116</td>\n",
       "            <td>P</td>\n",
       "        </tr>\n",
       "        <tr>\n",
       "            <td>GRC</td>\n",
       "            <td>MLN_USD</td>\n",
       "            <td>A</td>\n",
       "            <td>2022</td>\n",
       "            <td>386578.919</td>\n",
       "            <td>P</td>\n",
       "        </tr>\n",
       "    </tbody>\n",
       "</table>\n",
       "<span style='font-style:italic;font-size:11px'><code>ResultSet</code> : to convert to pandas, call <a href='https://jupysql.ploomber.io/en/latest/integrations/pandas.html'><code>.DataFrame()</code></a> or to polars, call <a href='https://jupysql.ploomber.io/en/latest/integrations/polars.html'><code>.PolarsDataFrame()</code></a></span><br>\n",
       "<span style=\"font-style:italic;text-align:center;\">Truncated to displaylimit of 10</span><br><span style=\"font-style:italic;text-align:center;\">If you want to see more, please visit <a href=\"https://jupysql.ploomber.io/en/latest/api/configuration.html#displaylimit\">displaylimit</a> configuration</span>"
      ],
      "text/plain": [
       "+----------+---------+-----------+------+-------------+------------+\n",
       "| LOCATION | MEASURE | FREQUENCY | TIME |    Value    | Flag Codes |\n",
       "+----------+---------+-----------+------+-------------+------------+\n",
       "|   AUS    | MLN_USD |     A     | 2022 | 1804621.816 |            |\n",
       "|   AUT    | MLN_USD |     A     | 2022 |  613714.889 |            |\n",
       "|   BEL    | MLN_USD |     A     | 2022 |  765169.283 |     P      |\n",
       "|   CAN    | MLN_USD |     A     | 2022 | 2271469.345 |            |\n",
       "|   CZE    | MLN_USD |     A     | 2022 |  525014.413 |            |\n",
       "|   DNK    | MLN_USD |     A     | 2022 |  442119.714 |            |\n",
       "|   FIN    | MLN_USD |     A     | 2022 |  330422.255 |            |\n",
       "|   FRA    | MLN_USD |     A     | 2022 | 3764758.779 |     P      |\n",
       "|   DEU    | MLN_USD |     A     | 2022 | 5323008.116 |     P      |\n",
       "|   GRC    | MLN_USD |     A     | 2022 |  386578.919 |     P      |\n",
       "+----------+---------+-----------+------+-------------+------------+"
      ]
     },
     "execution_count": 26,
     "metadata": {},
     "output_type": "execute_result"
    }
   ],
   "source": [
    "%%sql\n",
    "SELECT *\n",
    "FROM gdp_2022\n",
    "LIMIT 100"
   ]
  },
  {
   "cell_type": "markdown",
   "id": "004ea88a-8196-4efc-839a-c63c4f69b080",
   "metadata": {
    "deletable": false,
    "editable": false
   },
   "source": [
    "**Question 2.1:** Looking at the `gdp_2022` table, it appears the the `LOCATION` column contains the three digit country code for each country, similar to the `country_code` column in the `debt` table. Use this information to perform a simple join on both tables, only keeping rows where there are no missing values in either table."
   ]
  },
  {
   "cell_type": "code",
   "execution_count": 27,
   "id": "54f836ab-2810-4741-a46c-573f37cf19a6",
   "metadata": {},
   "outputs": [
    {
     "data": {
      "text/html": [
       "<span style=\"None\">Running query in &#x27;sqlite:///data/international_debt_3.db&#x27;</span>"
      ],
      "text/plain": [
       "Running query in 'sqlite:///data/international_debt_3.db'"
      ]
     },
     "metadata": {},
     "output_type": "display_data"
    }
   ],
   "source": [
    "%%sql res_q2_1<< \n",
    "\n",
    "SELECT *\n",
    "FROM debt\n",
    "JOIN gdp_2022 \n",
    "ON gdp_2022.LOCATION = debt.country_code"
   ]
  },
  {
   "cell_type": "code",
   "execution_count": 28,
   "id": "7cc75be9",
   "metadata": {
    "deletable": false,
    "editable": false
   },
   "outputs": [
    {
     "data": {
      "text/html": [
       "<p><strong><pre style='display: inline;'>q2_1</pre></strong> passed! 🚀</p>"
      ],
      "text/plain": [
       "q2_1 results: All test cases passed!"
      ]
     },
     "execution_count": 28,
     "metadata": {},
     "output_type": "execute_result"
    }
   ],
   "source": [
    "grader.check(\"q2_1\")"
   ]
  },
  {
   "cell_type": "markdown",
   "id": "85d3fc07-48ba-4612-b783-cca6934336b8",
   "metadata": {},
   "source": [
    "This table has a slight misnomer. While it is named `gdp_2022`, it actually doesn't have any GDP information at all. Instead, it contains the total PPP for each country (in millions of dollars) in 2022 in the `Value` column (read more about the difference [here](https://unacademy.com/content/railway-exam/study-material/static-gk/differentiate-between-gdp-and-ppp/#:~:text=GDP%20can%20be%20used%20as,country%20boundaries%20annually%20or%20quarterly))."
   ]
  },
  {
   "cell_type": "markdown",
   "id": "c351ad0f-f6dc-40fc-a195-cc332401e587",
   "metadata": {
    "deletable": false,
    "editable": false
   },
   "source": [
    "**Question 2.2:** Combining data from the two tables, generate a new table that has each country's name, total debt (across all indicators), ppp in dollars (not in millions of dollars) and the year in which these values were measured (which is always 2022). The first 5 rows of your output should look like the sample dataframe below."
   ]
  },
  {
   "cell_type": "code",
   "execution_count": 29,
   "id": "b1d5f45a-5e43-497f-8977-094dfd01fdf5",
   "metadata": {
    "deletable": false,
    "editable": false
   },
   "outputs": [
    {
     "data": {
      "text/html": [
       "<div>\n",
       "<style scoped>\n",
       "    .dataframe tbody tr th:only-of-type {\n",
       "        vertical-align: middle;\n",
       "    }\n",
       "\n",
       "    .dataframe tbody tr th {\n",
       "        vertical-align: top;\n",
       "    }\n",
       "\n",
       "    .dataframe thead th {\n",
       "        text-align: right;\n",
       "    }\n",
       "</style>\n",
       "<table border=\"1\" class=\"dataframe\">\n",
       "  <thead>\n",
       "    <tr style=\"text-align: right;\">\n",
       "      <th></th>\n",
       "      <th>country</th>\n",
       "      <th>debt</th>\n",
       "      <th>ppp</th>\n",
       "      <th>year</th>\n",
       "    </tr>\n",
       "  </thead>\n",
       "  <tbody>\n",
       "    <tr>\n",
       "      <th>0</th>\n",
       "      <td>Bulgaria</td>\n",
       "      <td>6.369102e+09</td>\n",
       "      <td>2.202952e+11</td>\n",
       "      <td>2022</td>\n",
       "    </tr>\n",
       "    <tr>\n",
       "      <th>1</th>\n",
       "      <td>China</td>\n",
       "      <td>2.857935e+11</td>\n",
       "      <td>3.009070e+13</td>\n",
       "      <td>2022</td>\n",
       "    </tr>\n",
       "    <tr>\n",
       "      <th>2</th>\n",
       "      <td>Colombia</td>\n",
       "      <td>4.543012e+10</td>\n",
       "      <td>1.051418e+12</td>\n",
       "      <td>2022</td>\n",
       "    </tr>\n",
       "    <tr>\n",
       "      <th>3</th>\n",
       "      <td>Costa Rica</td>\n",
       "      <td>8.616331e+09</td>\n",
       "      <td>1.291200e+11</td>\n",
       "      <td>2022</td>\n",
       "    </tr>\n",
       "    <tr>\n",
       "      <th>4</th>\n",
       "      <td>Indonesia</td>\n",
       "      <td>1.134357e+11</td>\n",
       "      <td>3.969883e+12</td>\n",
       "      <td>2022</td>\n",
       "    </tr>\n",
       "  </tbody>\n",
       "</table>\n",
       "</div>"
      ],
      "text/plain": [
       "      country          debt           ppp  year\n",
       "0    Bulgaria  6.369102e+09  2.202952e+11  2022\n",
       "1       China  2.857935e+11  3.009070e+13  2022\n",
       "2    Colombia  4.543012e+10  1.051418e+12  2022\n",
       "3  Costa Rica  8.616331e+09  1.291200e+11  2022\n",
       "4   Indonesia  1.134357e+11  3.969883e+12  2022"
      ]
     },
     "execution_count": 29,
     "metadata": {},
     "output_type": "execute_result"
    }
   ],
   "source": [
    "examp_2_2_data = {\n",
    "    'country': ['Bulgaria', 'China', 'Colombia', 'Costa Rica', 'Indonesia'],\n",
    "    'debt': [6.369102e9, 2.857935e11, 4.543012e10, 8.616331e9, 1.134357e11],\n",
    "    'ppp': [2.202952e11, 3.009070e13, 1.051418e12, 1.291200e11, 3.969883e12],\n",
    "    'year': [2022, 2022, 2022, 2022, 2022]\n",
    "}\n",
    "\n",
    "df_2_2 = pd.DataFrame(examp_2_2_data)\n",
    "df_2_2"
   ]
  },
  {
   "cell_type": "code",
   "execution_count": 30,
   "id": "8f9620f1-a4c3-4169-be4d-59504eb6df0c",
   "metadata": {
    "tags": []
   },
   "outputs": [
    {
     "data": {
      "text/html": [
       "<span style=\"None\">Running query in &#x27;sqlite:///data/international_debt_3.db&#x27;</span>"
      ],
      "text/plain": [
       "Running query in 'sqlite:///data/international_debt_3.db'"
      ]
     },
     "metadata": {},
     "output_type": "display_data"
    }
   ],
   "source": [
    "%%sql res_q2_2 <<\n",
    "SELECT debt.country_name AS country, SUM(debt) AS debt, gdp_2022.Value * 1000000 AS ppp, gdp_2022.TIME AS year FROM debt\n",
    "JOIN gdp_2022\n",
    "ON gdp_2022.LOCATION = debt.country_code\n",
    "GROUP by debt.country_code"
   ]
  },
  {
   "cell_type": "code",
   "execution_count": 31,
   "id": "29a371d7",
   "metadata": {
    "deletable": false,
    "editable": false
   },
   "outputs": [
    {
     "data": {
      "text/html": [
       "<p><strong><pre style='display: inline;'>q2_2</pre></strong> passed! 🚀</p>"
      ],
      "text/plain": [
       "q2_2 results: All test cases passed!"
      ]
     },
     "execution_count": 31,
     "metadata": {},
     "output_type": "execute_result"
    }
   ],
   "source": [
    "grader.check(\"q2_2\")"
   ]
  },
  {
   "cell_type": "markdown",
   "id": "fd938e03-25d9-4ccf-93f7-c9aff9e266c8",
   "metadata": {},
   "source": [
    "The `debt` table has 124 different country codes, while the `gdp_2022` table has 50 different country codes. Despite that, both tables only have 10 overlapping countries. This is unfortunate, but it is the only data we have - welcome to real world data science!"
   ]
  },
  {
   "cell_type": "markdown",
   "id": "ae00cb26-8b75-455b-b379-48e4b42575e7",
   "metadata": {
    "deletable": false,
    "editable": false
   },
   "source": [
    "**Question 2.3:** Since we have all the relevant data, we might as well calculate the [debt ratio](https://worldpopulationreview.com/country-rankings/debt-to-gdp-ratio-by-country) for each country. Your output for this question should be very similar to your output for 2.2, with the only new column being called `debtRatio` and representing the debt ratio for each country. For the sake of clarity, only show the first 3 decimal places of each country's debt ratio.\n",
    "\n",
    "*Note:* As we're comparing debt with PPP rather than with GDP, we're calculating the Debt-to-PPP ratio rather than Debt-to-GDP."
   ]
  },
  {
   "cell_type": "code",
   "execution_count": 32,
   "id": "69a06cab-3c76-4147-8de5-60ea2a140468",
   "metadata": {
    "tags": []
   },
   "outputs": [
    {
     "data": {
      "text/html": [
       "<span style=\"None\">Running query in &#x27;sqlite:///data/international_debt_3.db&#x27;</span>"
      ],
      "text/plain": [
       "Running query in 'sqlite:///data/international_debt_3.db'"
      ]
     },
     "metadata": {},
     "output_type": "display_data"
    }
   ],
   "source": [
    "%%sql res_q2_3 <<\n",
    "SELECT \n",
    "debt.country_name AS country, \n",
    "SUM(debt) AS debt,\n",
    "gdp_2022.Value * 1000000 AS ppp,\n",
    "ROUND(SUM(debt) / (gdp_2022.Value*1000000), 3) AS debtRatio, \n",
    "gdp_2022.TIME AS year\n",
    "FROM debt \n",
    "\n",
    "JOIN gdp_2022\n",
    "ON gdp_2022.LOCATION = debt.country_code\n",
    "GROUP by debt.country_code"
   ]
  },
  {
   "cell_type": "code",
   "execution_count": 33,
   "id": "18d95eed-c25b-4c3d-8f59-b6c23c64c138",
   "metadata": {},
   "outputs": [
    {
     "data": {
      "text/html": [
       "<table>\n",
       "    <thead>\n",
       "        <tr>\n",
       "            <th>country</th>\n",
       "            <th>debt</th>\n",
       "            <th>ppp</th>\n",
       "            <th>debtRatio</th>\n",
       "            <th>year</th>\n",
       "        </tr>\n",
       "    </thead>\n",
       "    <tbody>\n",
       "        <tr>\n",
       "            <td>Bulgaria</td>\n",
       "            <td>6369101653.900001</td>\n",
       "            <td>220295175000.0</td>\n",
       "            <td>0.029</td>\n",
       "            <td>2022</td>\n",
       "        </tr>\n",
       "        <tr>\n",
       "            <td>China</td>\n",
       "            <td>285793494734.2</td>\n",
       "            <td>30090699886000.0</td>\n",
       "            <td>0.009</td>\n",
       "            <td>2022</td>\n",
       "        </tr>\n",
       "        <tr>\n",
       "            <td>Colombia</td>\n",
       "            <td>45430117605.200005</td>\n",
       "            <td>1051418088000.0</td>\n",
       "            <td>0.043</td>\n",
       "            <td>2022</td>\n",
       "        </tr>\n",
       "        <tr>\n",
       "            <td>Costa Rica</td>\n",
       "            <td>8616331219.9</td>\n",
       "            <td>129120036000.0</td>\n",
       "            <td>0.067</td>\n",
       "            <td>2022</td>\n",
       "        </tr>\n",
       "        <tr>\n",
       "            <td>Indonesia</td>\n",
       "            <td>113435696693.5</td>\n",
       "            <td>3969883308000.0</td>\n",
       "            <td>0.029</td>\n",
       "            <td>2022</td>\n",
       "        </tr>\n",
       "        <tr>\n",
       "            <td>Mexico</td>\n",
       "            <td>124596786217.3</td>\n",
       "            <td>2757080197000.0</td>\n",
       "            <td>0.045</td>\n",
       "            <td>2022</td>\n",
       "        </tr>\n",
       "        <tr>\n",
       "            <td>Macedonia, FYR</td>\n",
       "            <td>3502007528.5</td>\n",
       "            <td>41486132000.0</td>\n",
       "            <td>0.084</td>\n",
       "            <td>2022</td>\n",
       "        </tr>\n",
       "        <tr>\n",
       "            <td>Romania</td>\n",
       "            <td>42813979498.2</td>\n",
       "            <td>792547021000.0</td>\n",
       "            <td>0.054</td>\n",
       "            <td>2022</td>\n",
       "        </tr>\n",
       "        <tr>\n",
       "            <td>Turkey</td>\n",
       "            <td>151125758035.30002</td>\n",
       "            <td>3180983731000.0</td>\n",
       "            <td>0.048</td>\n",
       "            <td>2022</td>\n",
       "        </tr>\n",
       "        <tr>\n",
       "            <td>South Africa</td>\n",
       "            <td>36703940742.5</td>\n",
       "            <td>949506772000.0</td>\n",
       "            <td>0.039</td>\n",
       "            <td>2022</td>\n",
       "        </tr>\n",
       "    </tbody>\n",
       "</table>\n",
       "<span style='font-style:italic;font-size:11px'><code>ResultSet</code> : to convert to pandas, call <a href='https://jupysql.ploomber.io/en/latest/integrations/pandas.html'><code>.DataFrame()</code></a> or to polars, call <a href='https://jupysql.ploomber.io/en/latest/integrations/polars.html'><code>.PolarsDataFrame()</code></a></span><br>\n",
       "<span style=\"font-style:italic;text-align:center;\">Truncated to displaylimit of 10</span><br><span style=\"font-style:italic;text-align:center;\">If you want to see more, please visit <a href=\"https://jupysql.ploomber.io/en/latest/api/configuration.html#displaylimit\">displaylimit</a> configuration</span>"
      ],
      "text/plain": [
       "+----------------+--------------------+------------------+-----------+------+\n",
       "|    country     |        debt        |       ppp        | debtRatio | year |\n",
       "+----------------+--------------------+------------------+-----------+------+\n",
       "|    Bulgaria    | 6369101653.900001  |  220295175000.0  |   0.029   | 2022 |\n",
       "|     China      |   285793494734.2   | 30090699886000.0 |   0.009   | 2022 |\n",
       "|    Colombia    | 45430117605.200005 | 1051418088000.0  |   0.043   | 2022 |\n",
       "|   Costa Rica   |    8616331219.9    |  129120036000.0  |   0.067   | 2022 |\n",
       "|   Indonesia    |   113435696693.5   | 3969883308000.0  |   0.029   | 2022 |\n",
       "|     Mexico     |   124596786217.3   | 2757080197000.0  |   0.045   | 2022 |\n",
       "| Macedonia, FYR |    3502007528.5    |  41486132000.0   |   0.084   | 2022 |\n",
       "|    Romania     |   42813979498.2    |  792547021000.0  |   0.054   | 2022 |\n",
       "|     Turkey     | 151125758035.30002 | 3180983731000.0  |   0.048   | 2022 |\n",
       "|  South Africa  |   36703940742.5    |  949506772000.0  |   0.039   | 2022 |\n",
       "+----------------+--------------------+------------------+-----------+------+"
      ]
     },
     "execution_count": 33,
     "metadata": {},
     "output_type": "execute_result"
    }
   ],
   "source": [
    "res_q2_3"
   ]
  },
  {
   "cell_type": "code",
   "execution_count": 34,
   "id": "d01cf2ca",
   "metadata": {
    "deletable": false,
    "editable": false
   },
   "outputs": [
    {
     "data": {
      "text/html": [
       "<p><strong><pre style='display: inline;'>q2_3</pre></strong> passed! 🍀</p>"
      ],
      "text/plain": [
       "q2_3 results: All test cases passed!"
      ]
     },
     "execution_count": 34,
     "metadata": {},
     "output_type": "execute_result"
    }
   ],
   "source": [
    "grader.check(\"q2_3\")"
   ]
  },
  {
   "cell_type": "markdown",
   "id": "012da278-8d95-4067-8025-ac7fac677c8d",
   "metadata": {
    "deletable": false,
    "editable": false
   },
   "source": [
    "**Question 2.4:** As we saw above, there are very few countries with data across both tables. To mitigate this, create a table which has information on the debt for as many countries as possible, regardless on whether or not we also have data on their ppp. Don't include any countries for which you do not have information on the debt. This table should have the same columns as the output for question 2.2."
   ]
  },
  {
   "cell_type": "code",
   "execution_count": 35,
   "id": "a3f1c859-bd34-4719-a378-d6f558d15ae3",
   "metadata": {
    "editable": true,
    "slideshow": {
     "slide_type": ""
    },
    "tags": []
   },
   "outputs": [
    {
     "data": {
      "text/html": [
       "<span style=\"None\">Running query in &#x27;sqlite:///data/international_debt_3.db&#x27;</span>"
      ],
      "text/plain": [
       "Running query in 'sqlite:///data/international_debt_3.db'"
      ]
     },
     "metadata": {},
     "output_type": "display_data"
    }
   ],
   "source": [
    "%%sql res_q2_4 <<\n",
    "SELECT \n",
    "debt.country_name AS country, \n",
    "SUM(debt) AS debt,\n",
    "gdp_2022.Value * 1000000 AS ppp,\n",
    "gdp_2022.TIME AS year\n",
    "FROM debt\n",
    "\n",
    "LEFT JOIN gdp_2022\n",
    "ON gdp_2022.LOCATION = debt.country_code\n",
    "WHERE debt.country_code IS NOT NULL\n",
    "GROUP by debt.country_name"
   ]
  },
  {
   "cell_type": "code",
   "execution_count": 36,
   "id": "58381ba9",
   "metadata": {
    "deletable": false,
    "editable": false
   },
   "outputs": [
    {
     "data": {
      "text/html": [
       "<p><strong><pre style='display: inline;'>q2_4</pre></strong> passed! 🍀</p>"
      ],
      "text/plain": [
       "q2_4 results: All test cases passed!"
      ]
     },
     "execution_count": 36,
     "metadata": {},
     "output_type": "execute_result"
    }
   ],
   "source": [
    "grader.check(\"q2_4\")"
   ]
  },
  {
   "cell_type": "markdown",
   "id": "6331e3b7-7cd1-470a-a3df-f42dc7891f70",
   "metadata": {
    "deletable": false,
    "editable": false
   },
   "source": [
    "**Question 2.5:** Filter the table from question 2.4 to only output countries with a total debt greater than 10 billion dollars."
   ]
  },
  {
   "cell_type": "code",
   "execution_count": 41,
   "id": "2ac7d898-dbcb-4def-a21d-3e0c4e8dfa6d",
   "metadata": {
    "tags": []
   },
   "outputs": [
    {
     "data": {
      "text/html": [
       "<span style=\"None\">Running query in &#x27;sqlite:///data/international_debt_3.db&#x27;</span>"
      ],
      "text/plain": [
       "Running query in 'sqlite:///data/international_debt_3.db'"
      ]
     },
     "metadata": {},
     "output_type": "display_data"
    }
   ],
   "source": [
    "%%sql res_q2_5 <<\n",
    "SELECT \n",
    "    debt.country_name AS country, \n",
    "    debt.debt AS debt,\n",
    "    gdp_2022.Value * 1000000 AS ppp,\n",
    "    gdp_2022.TIME AS year\n",
    "FROM debt\n",
    "LEFT JOIN gdp_2022 ON gdp_2022.LOCATION = debt.country_code\n",
    "WHERE debt.country_code IS NOT NULL\n",
    "GROUP BY debt.country_name\n",
    "HAVING debt.debt > 10000000000"
   ]
  },
  {
   "cell_type": "code",
   "execution_count": 42,
   "id": "c75f776f-46af-4709-8f37-d4db25b5aec1",
   "metadata": {},
   "outputs": [
    {
     "data": {
      "text/html": [
       "<table>\n",
       "    <thead>\n",
       "        <tr>\n",
       "            <th>country</th>\n",
       "            <th>debt</th>\n",
       "            <th>ppp</th>\n",
       "            <th>year</th>\n",
       "        </tr>\n",
       "    </thead>\n",
       "    <tbody>\n",
       "        <tr>\n",
       "            <td>Angola</td>\n",
       "            <td>10924018093.1</td>\n",
       "            <td>None</td>\n",
       "            <td>None</td>\n",
       "        </tr>\n",
       "        <tr>\n",
       "            <td>Cameroon</td>\n",
       "            <td>18186662060.4</td>\n",
       "            <td>None</td>\n",
       "            <td>None</td>\n",
       "        </tr>\n",
       "        <tr>\n",
       "            <td>China</td>\n",
       "            <td>15692563746.1</td>\n",
       "            <td>30090699886000.0</td>\n",
       "            <td>2022</td>\n",
       "        </tr>\n",
       "        <tr>\n",
       "            <td>IDA only</td>\n",
       "            <td>34531188113.2</td>\n",
       "            <td>None</td>\n",
       "            <td>None</td>\n",
       "        </tr>\n",
       "        <tr>\n",
       "            <td>India</td>\n",
       "            <td>11005547326.2</td>\n",
       "            <td>None</td>\n",
       "            <td>None</td>\n",
       "        </tr>\n",
       "        <tr>\n",
       "            <td>Least developed countries: UN classification</td>\n",
       "            <td>40160766261.6</td>\n",
       "            <td>None</td>\n",
       "            <td>None</td>\n",
       "        </tr>\n",
       "        <tr>\n",
       "            <td>South Asia</td>\n",
       "            <td>29306216064.7</td>\n",
       "            <td>None</td>\n",
       "            <td>None</td>\n",
       "        </tr>\n",
       "    </tbody>\n",
       "</table>\n",
       "<span style='font-style:italic;font-size:11px'><code>ResultSet</code> : to convert to pandas, call <a href='https://jupysql.ploomber.io/en/latest/integrations/pandas.html'><code>.DataFrame()</code></a> or to polars, call <a href='https://jupysql.ploomber.io/en/latest/integrations/polars.html'><code>.PolarsDataFrame()</code></a></span><br>"
      ],
      "text/plain": [
       "+----------------------------------------------+---------------+------------------+------+\n",
       "|                   country                    |      debt     |       ppp        | year |\n",
       "+----------------------------------------------+---------------+------------------+------+\n",
       "|                    Angola                    | 10924018093.1 |       None       | None |\n",
       "|                   Cameroon                   | 18186662060.4 |       None       | None |\n",
       "|                    China                     | 15692563746.1 | 30090699886000.0 | 2022 |\n",
       "|                   IDA only                   | 34531188113.2 |       None       | None |\n",
       "|                    India                     | 11005547326.2 |       None       | None |\n",
       "| Least developed countries: UN classification | 40160766261.6 |       None       | None |\n",
       "|                  South Asia                  | 29306216064.7 |       None       | None |\n",
       "+----------------------------------------------+---------------+------------------+------+"
      ]
     },
     "execution_count": 42,
     "metadata": {},
     "output_type": "execute_result"
    }
   ],
   "source": [
    "res_q2_5"
   ]
  },
  {
   "cell_type": "code",
   "execution_count": 43,
   "id": "23788984",
   "metadata": {
    "deletable": false,
    "editable": false
   },
   "outputs": [
    {
     "data": {
      "text/html": [
       "<p><strong><pre style='display: inline;'>q2_5</pre></strong> passed! 🎉</p>"
      ],
      "text/plain": [
       "q2_5 results: All test cases passed!"
      ]
     },
     "execution_count": 43,
     "metadata": {},
     "output_type": "execute_result"
    }
   ],
   "source": [
    "grader.check(\"q2_5\")"
   ]
  },
  {
   "cell_type": "markdown",
   "id": "8c46d7b7-0352-41ff-b408-1788b23f7689",
   "metadata": {
    "editable": true,
    "slideshow": {
     "slide_type": ""
    },
    "tags": []
   },
   "source": [
    "Looking at the output, we can see that the `debt` table also contains some regions which aren't exactly countries. If we did our EDA better, we would've ideally caught these rows earlier and appropriately dealt with them."
   ]
  },
  {
   "cell_type": "markdown",
   "id": "11c6459b-34e9-454e-a3d4-9adaaf05949e",
   "metadata": {
    "deletable": false,
    "editable": false
   },
   "source": [
    "**Question 2.6:** Let's take a slightly more sophisticated approach. Let's add in a column `Warning Level` to the table from question 2.4, which says `safe` if the debt level is less than 100 million dollars, `warning` if the debt level is between 100 million and 10 billion dollars, and `danger` if the debt level is greater than 10 billion dollars."
   ]
  },
  {
   "cell_type": "code",
   "execution_count": 59,
   "id": "d2f80b62-d3ae-4c2c-bfe6-1bc493c66bf4",
   "metadata": {
    "tags": []
   },
   "outputs": [
    {
     "data": {
      "text/html": [
       "<span style=\"None\">Running query in &#x27;sqlite:///data/international_debt_3.db&#x27;</span>"
      ],
      "text/plain": [
       "Running query in 'sqlite:///data/international_debt_3.db'"
      ]
     },
     "metadata": {},
     "output_type": "display_data"
    }
   ],
   "source": [
    "%%sql res_q2_6 <<\n",
    "SELECT \n",
    "    debt.country_name AS country, \n",
    "    debt.debt AS debt,\n",
    "    gdp_2022.Value * 1000000 AS ppp,\n",
    "    gdp_2022.TIME AS year,\n",
    "    CASE\n",
    "        WHEN debt.debt < 100000000 THEN 'safe'\n",
    "        WHEN debt.debt >= 100000000 AND debt.debt <= 10000000000 THEN 'warning'\n",
    "        ELSE 'danger'\n",
    "    END AS 'Warning Level'\n",
    "FROM debt\n",
    "LEFT JOIN gdp_2022 ON gdp_2022.LOCATION = debt.country_code\n",
    "WHERE debt.country_code IS NOT NULL\n",
    "GROUP BY debt.country_name;\n"
   ]
  },
  {
   "cell_type": "code",
   "execution_count": 60,
   "id": "4f85dabe",
   "metadata": {
    "deletable": false,
    "editable": false
   },
   "outputs": [
    {
     "data": {
      "text/html": [
       "<p><strong><pre style='display: inline;'>q2_6</pre></strong> passed! 🌟</p>"
      ],
      "text/plain": [
       "q2_6 results: All test cases passed!"
      ]
     },
     "execution_count": 60,
     "metadata": {},
     "output_type": "execute_result"
    }
   ],
   "source": [
    "grader.check(\"q2_6\")"
   ]
  },
  {
   "cell_type": "markdown",
   "id": "f0763bc2",
   "metadata": {},
   "source": [
    "---\n",
    "## Part 3: Translating SQL queries\n",
    "In this part, we will do some simple exercise to find equivalent commands in SQL and Pandas. "
   ]
  },
  {
   "cell_type": "markdown",
   "id": "32dc1189",
   "metadata": {},
   "source": [
    "In this part, we will have two tables or dataframes: `farm` and `shop`. You may have already seen them in the discussion sections!\n",
    "\n",
    "The `farm` table:\n",
    "\n",
    "| | crop | price | type | is_red |\n",
    "| --- | --- | --- | --- | --- |\n",
    "| 0 | Starfruit | 750 | Fruit | False |\n",
    "| 1 | Sweet Gem Berry | 3000 | Fruit | True |\n",
    "| 2 | Red Cabbage | 260 | Vegetable | True |\n",
    "| 3 | Parsnip | 35 | Vegetable | True |\n",
    "| 4 | Pumpkin | 320 | Vegetable | False |\n",
    "\n",
    "The `shop` table:\n",
    "\n",
    "| | type | on_sale |\n",
    "| --- | --- | --- |\n",
    "| 0 | Fruit | True |\n",
    "| 1 | Vegetable | False |\n",
    "| 2 | Egg | False |\n",
    "| 3 | Fish | False |"
   ]
  },
  {
   "cell_type": "markdown",
   "id": "b7cb6970",
   "metadata": {
    "deletable": false,
    "editable": false
   },
   "source": [
    "**Question 3.1:** Which of the following SQL query or queries are logically equivalent to the following Pandas query?\n",
    "\n",
    "```python\n",
    "farm.merge(shop, how=\"inner\", on=\"type\")\n",
    "```\n",
    "\n",
    "a.\n",
    "``` mysql\n",
    "SELECT * FROM farm, shop\n",
    "WHERE type = type;\n",
    "``` \n",
    "b.\n",
    "``` mysql\n",
    "SELECT * FROM farm, shop \n",
    "WHERE farm.type = shop.type;\n",
    "``` \n",
    "c.\n",
    "``` mysql\n",
    "SELECT * FROM farm\n",
    "INNER JOIN shop\n",
    "WHERE farm.type = shop.type;\n",
    "``` \n",
    "d.\n",
    "``` mysql\n",
    "SELECT * FROM farm\n",
    "INNER JOIN shop\n",
    "ON farm.type = shop.type;\n",
    "``` \n",
    "\n",
    "Assign an array of letters corresponding to your answer to `q2_1` below. For example, `q2_1 = np.array(['a', 'b', 'c', 'd'])`."
   ]
  },
  {
   "cell_type": "code",
   "execution_count": null,
   "id": "bb8fd34f",
   "metadata": {
    "tags": []
   },
   "outputs": [],
   "source": [
    "q3_1 = np.array(['b','d'])\n",
    "..."
   ]
  },
  {
   "cell_type": "code",
   "execution_count": null,
   "id": "0da371c3",
   "metadata": {
    "deletable": false,
    "editable": false
   },
   "outputs": [],
   "source": [
    "grader.check(\"q3_1\")"
   ]
  },
  {
   "cell_type": "markdown",
   "id": "8dde0c9d",
   "metadata": {
    "deletable": false,
    "editable": false
   },
   "source": [
    "**Question 3.2:** Which of the following Pandas command or commands are logically equivalent to the following SQL queries query?\n",
    "\n",
    "``` mysql\n",
    "SELECT type, AVG(price)\n",
    "FROM farm\n",
    "GROUP BY type;\n",
    "\n",
    "``` \n",
    "\n",
    "a.\n",
    "``` python\n",
    "farm[\"price\"].mean()\n",
    "``` \n",
    "b.\n",
    "``` python\n",
    "farm.groupby([\"type\", \"price\"]).mean()\n",
    "```  \n",
    "c.\n",
    "``` python\n",
    "farm.groupby(\"price\")[[\"type\"]].mean()\n",
    "``` \n",
    "d.\n",
    "``` python\n",
    "farm.groupby(\"type\")[[\"price\"]].mean()\n",
    "``` \n",
    "\n",
    "Assign an array of letters corresponding to your answer to `q2_2` below. For example, `q2_2 = np.array(['a', 'b', 'c', 'd'])`."
   ]
  },
  {
   "cell_type": "code",
   "execution_count": null,
   "id": "425af9b6",
   "metadata": {
    "tags": []
   },
   "outputs": [],
   "source": [
    "q3_2 = np.array(['d'])\n"
   ]
  },
  {
   "cell_type": "code",
   "execution_count": null,
   "id": "6d10ce86",
   "metadata": {
    "deletable": false,
    "editable": false
   },
   "outputs": [],
   "source": [
    "grader.check(\"q3_2\")"
   ]
  },
  {
   "cell_type": "markdown",
   "id": "d464ed0c",
   "metadata": {},
   "source": [
    "---\n",
    "## Feedback"
   ]
  },
  {
   "cell_type": "markdown",
   "id": "f53630f4",
   "metadata": {
    "deletable": false,
    "editable": false
   },
   "source": [
    "**Question 4:** Please fill out this short [feedback form](https://forms.gle/CUMuTDkgZR56zUWx8) to let us know your thoughts about this lab! We really appreciate your opinions and feedback! At the end of the Google form, you should see a codeword. Assign the codeword to the variable `codeword` below. "
   ]
  },
  {
   "cell_type": "code",
   "execution_count": null,
   "id": "bb0e37a7",
   "metadata": {
    "tags": []
   },
   "outputs": [],
   "source": [
    "codeword = 'payment'"
   ]
  },
  {
   "cell_type": "code",
   "execution_count": null,
   "id": "48383895",
   "metadata": {
    "deletable": false,
    "editable": false
   },
   "outputs": [],
   "source": [
    "grader.check(\"q4\")"
   ]
  },
  {
   "cell_type": "markdown",
   "id": "d6cc6111",
   "metadata": {
    "deletable": false,
    "editable": false
   },
   "source": [
    "## Submission\n",
    "\n",
    "Make sure you have run all cells in your notebook in order before running the cell below, so that all images/graphs appear in the output. The cell below will generate a zip file for you to submit. **Please save before exporting!**"
   ]
  },
  {
   "cell_type": "code",
   "execution_count": null,
   "id": "91c6ac57",
   "metadata": {
    "deletable": false,
    "editable": false
   },
   "outputs": [],
   "source": [
    "# Save your notebook first, then run this cell to export your submission.\n",
    "grader.export(run_tests=True)"
   ]
  },
  {
   "cell_type": "markdown",
   "id": "0688de43",
   "metadata": {},
   "source": [
    " "
   ]
  },
  {
   "cell_type": "code",
   "execution_count": null,
   "id": "30178451-d0e0-4f51-9ea8-e62fb710b585",
   "metadata": {},
   "outputs": [],
   "source": []
  }
 ],
 "metadata": {
  "kernelspec": {
   "display_name": "Python 3 (ipykernel)",
   "language": "python",
   "name": "python3"
  },
  "language_info": {
   "codemirror_mode": {
    "name": "ipython",
    "version": 3
   },
   "file_extension": ".py",
   "mimetype": "text/x-python",
   "name": "python",
   "nbconvert_exporter": "python",
   "pygments_lexer": "ipython3",
   "version": "3.11.0"
  },
  "otter": {
   "OK_FORMAT": true,
   "export_pdf_failure_message": "PDF did not generate, please submit screenshots for question 1.8",
   "require_no_pdf_confirmation": true,
   "tests": {
    "q1_1": {
     "name": "q1_1",
     "points": null,
     "suites": [
      {
       "cases": [
        {
         "code": ">>> if type(res_q1_1) != pd.core.frame.DataFrame:\n...     res_q1_1 = res_q1_1.DataFrame()\n>>> assert res_q1_1.shape == (12, 5)\n",
         "hidden": false,
         "locked": false
        },
        {
         "code": ">>> if type(res_q1_1) != pd.core.frame.DataFrame:\n...     res_q1_1 = res_q1_1.DataFrame()\n>>> assert np.all(res_q1_1['country_code'] == 'AFG')\n",
         "hidden": false,
         "locked": false
        }
       ],
       "scored": true,
       "setup": "",
       "teardown": "",
       "type": "doctest"
      }
     ]
    },
    "q1_2": {
     "name": "q1_2",
     "points": null,
     "suites": [
      {
       "cases": [
        {
         "code": ">>> if type(res_q1_2) != pd.core.frame.DataFrame:\n...     res_q1_2 = res_q1_2.DataFrame()\n>>> assert res_q1_2.shape == (1, 1)\n",
         "hidden": false,
         "locked": false
        },
        {
         "code": ">>> if type(res_q1_2) != pd.core.frame.DataFrame:\n...     res_q1_2 = res_q1_2.DataFrame()\n>>> assert res_q1_2.columns[0] == 'total_distinct_countries'\n",
         "hidden": false,
         "locked": false
        },
        {
         "code": ">>> if type(res_q1_2) != pd.core.frame.DataFrame:\n...     res_q1_2 = res_q1_2.DataFrame()\n>>> assert np.isclose(res_q1_2.iloc[0, 0], 124)\n",
         "hidden": false,
         "locked": false
        }
       ],
       "scored": true,
       "setup": "",
       "teardown": "",
       "type": "doctest"
      }
     ]
    },
    "q1_3": {
     "name": "q1_3",
     "points": null,
     "suites": [
      {
       "cases": [
        {
         "code": ">>> if type(res_q1_3) != pd.core.frame.DataFrame:\n...     res_q1_3 = res_q1_3.DataFrame()\n>>> assert res_q1_3.shape == (25, 1)\n",
         "hidden": false,
         "locked": false
        },
        {
         "code": ">>> if type(res_q1_3) != pd.core.frame.DataFrame:\n...     res_q1_3 = res_q1_3.DataFrame()\n>>> assert res_q1_3.columns[0] == 'distinct_debt_indicators'\n",
         "hidden": false,
         "locked": false
        },
        {
         "code": ">>> if type(res_q1_3) != pd.core.frame.DataFrame:\n...     res_q1_3 = res_q1_3.DataFrame()\n>>> assert len(res_q1_3.iloc[:, 0].unique()) == 25\n",
         "hidden": false,
         "locked": false
        }
       ],
       "scored": true,
       "setup": "",
       "teardown": "",
       "type": "doctest"
      }
     ]
    },
    "q1_4": {
     "name": "q1_4",
     "points": null,
     "suites": [
      {
       "cases": [
        {
         "code": ">>> if type(res_q1_4) != pd.core.frame.DataFrame:\n...     res_q1_4 = res_q1_4.DataFrame()\n>>> assert res_q1_4.shape == (124, 2)\n",
         "hidden": false,
         "locked": false
        },
        {
         "code": ">>> if type(res_q1_4) != pd.core.frame.DataFrame:\n...     res_q1_4 = res_q1_4.DataFrame()\n>>> assert res_q1_4.iloc[5].country_name == 'Azerbaijan'\n",
         "hidden": false,
         "locked": false
        },
        {
         "code": ">>> if type(res_q1_4) != pd.core.frame.DataFrame:\n...     res_q1_4 = res_q1_4.DataFrame()\n>>> assert np.isclose(res_q1_4.iloc[5].total_debt, 8753733000.0)\n",
         "hidden": false,
         "locked": false
        }
       ],
       "scored": true,
       "setup": "",
       "teardown": "",
       "type": "doctest"
      }
     ]
    },
    "q1_5": {
     "name": "q1_5",
     "points": null,
     "suites": [
      {
       "cases": [
        {
         "code": ">>> if type(res_q1_5) != pd.core.frame.DataFrame:\n...     res_q1_5 = res_q1_5.DataFrame()\n>>> assert res_q1_5.shape == (124, 2)\n",
         "hidden": false,
         "locked": false
        },
        {
         "code": ">>> if type(res_q1_5) != pd.core.frame.DataFrame:\n...     res_q1_5 = res_q1_5.DataFrame()\n>>> assert res_q1_5.iloc[4].country_name == 'Russian Federation'\n",
         "hidden": false,
         "locked": false
        },
        {
         "code": ">>> if type(res_q1_5) != pd.core.frame.DataFrame:\n...     res_q1_5 = res_q1_5.DataFrame()\n>>> assert np.isclose(res_q1_5.iloc[4].total_debt, 191289100000.0)\n",
         "hidden": false,
         "locked": false
        }
       ],
       "scored": true,
       "setup": "",
       "teardown": "",
       "type": "doctest"
      }
     ]
    },
    "q1_6": {
     "name": "q1_6",
     "points": null,
     "suites": [
      {
       "cases": [
        {
         "code": ">>> if type(res_q1_6) != pd.core.frame.DataFrame:\n...     res_q1_6 = res_q1_6.DataFrame()\n>>> assert res_q1_6.shape == (25, 2)\n",
         "hidden": false,
         "locked": false
        },
        {
         "code": ">>> if type(res_q1_6) != pd.core.frame.DataFrame:\n...     res_q1_6 = res_q1_6.DataFrame()\n>>> assert res_q1_6.iloc[4].indicator_name == 'Interest payments on external debt, long-term (INT, current US$)'\n",
         "hidden": false,
         "locked": false
        },
        {
         "code": ">>> if type(res_q1_6) != pd.core.frame.DataFrame:\n...     res_q1_6 = res_q1_6.DataFrame()\n>>> assert np.isclose(res_q1_6.iloc[4].total_debt, 203859000000.0)\n",
         "hidden": false,
         "locked": false
        }
       ],
       "scored": true,
       "setup": "",
       "teardown": "",
       "type": "doctest"
      }
     ]
    },
    "q1_7": {
     "name": "q1_7",
     "points": null,
     "suites": [
      {
       "cases": [
        {
         "code": ">>> if type(res_q1_7) != pd.core.frame.DataFrame:\n...     res_q1_7 = res_q1_7.DataFrame()\n>>> assert res_q1_7.shape == (48, 5)\n",
         "hidden": false,
         "locked": false
        },
        {
         "code": ">>> if type(res_q1_7) != pd.core.frame.DataFrame:\n...     res_q1_7 = res_q1_7.DataFrame()\n>>> assert np.all(res_q1_7['country_code'].isin(['CHN', 'BRA']))\n",
         "hidden": false,
         "locked": false
        },
        {
         "code": ">>> if type(res_q1_7) != pd.core.frame.DataFrame:\n...     res_q1_7 = res_q1_7.DataFrame()\n>>> assert res_q1_7.iloc[4].indicator_name == 'Principal repayments on external debt, private nonguaranteed (PNG) (AMT, current US$)'\n",
         "hidden": false,
         "locked": false
        },
        {
         "code": ">>> if type(res_q1_7) != pd.core.frame.DataFrame:\n...     res_q1_7 = res_q1_7.DataFrame()\n>>> assert np.isclose(res_q1_7.iloc[4].debt, 41831444053.3)\n",
         "hidden": false,
         "locked": false
        }
       ],
       "scored": true,
       "setup": "",
       "teardown": "",
       "type": "doctest"
      }
     ]
    },
    "q2_1": {
     "name": "q2_1",
     "points": null,
     "suites": [
      {
       "cases": [
        {
         "code": ">>> if type(res_q2_1) != pd.core.frame.DataFrame:\n...     res_q2_1 = res_q2_1.DataFrame()\n>>> assert res_q2_1.shape == (225, 11)\n",
         "hidden": false,
         "locked": false
        },
        {
         "code": ">>> if type(res_q2_1) != pd.core.frame.DataFrame:\n...     res_q2_1 = res_q2_1.DataFrame()\n>>> assert np.isclose(len(res_q2_1['country_name'].unique()), 10)\n",
         "hidden": false,
         "locked": false
        }
       ],
       "scored": true,
       "setup": "",
       "teardown": "",
       "type": "doctest"
      }
     ]
    },
    "q2_2": {
     "name": "q2_2",
     "points": 2,
     "suites": [
      {
       "cases": [
        {
         "code": ">>> if type(res_q2_2) != pd.core.frame.DataFrame:\n...     res_q2_2 = res_q2_2.DataFrame()\n>>> assert res_q2_2.shape == (10, 4)\n",
         "hidden": false,
         "locked": false
        },
        {
         "code": ">>> if type(res_q2_2) != pd.core.frame.DataFrame:\n...     res_q2_2 = res_q2_2.DataFrame()\n>>> assert np.isclose(res_q2_2.loc[res_q2_2['country'] == 'Romania', 'ppp'].iloc[0], 792547021000.0)\n",
         "hidden": false,
         "locked": false
        }
       ],
       "scored": true,
       "setup": "",
       "teardown": "",
       "type": "doctest"
      }
     ]
    },
    "q2_3": {
     "name": "q2_3",
     "points": 2,
     "suites": [
      {
       "cases": [
        {
         "code": ">>> if type(res_q2_3) != pd.core.frame.DataFrame:\n...     res_q2_3 = res_q2_3.DataFrame()\n>>> assert res_q2_3.shape == (10, 5)\n",
         "hidden": false,
         "locked": false
        },
        {
         "code": ">>> if type(res_q2_3) != pd.core.frame.DataFrame:\n...     res_q2_3 = res_q2_3.DataFrame()\n>>> assert res_q2_3.loc[res_q2_3['country'] == 'Romania', 'debtRatio'].iloc[0] == 0.054\n",
         "hidden": false,
         "locked": false
        }
       ],
       "scored": true,
       "setup": "",
       "teardown": "",
       "type": "doctest"
      }
     ]
    },
    "q2_4": {
     "name": "q2_4",
     "points": null,
     "suites": [
      {
       "cases": [
        {
         "code": ">>> if type(res_q2_4) != pd.core.frame.DataFrame:\n...     res_q2_4 = res_q2_4.DataFrame()\n>>> assert res_q2_4.shape == (124, 4)\n",
         "hidden": false,
         "locked": false
        },
        {
         "code": ">>> if type(res_q2_4) != pd.core.frame.DataFrame:\n...     res_q2_4 = res_q2_4.DataFrame()\n>>> assert float(res_q2_4.loc[res_q2_4['country'] == 'South Africa', 'year'].iloc[0]) == 2022\n>>> assert len(res_q2_4.loc[res_q2_4['country'] == 'Yemen', 'ppp']) == 0\n",
         "hidden": false,
         "locked": false
        }
       ],
       "scored": true,
       "setup": "",
       "teardown": "",
       "type": "doctest"
      }
     ]
    },
    "q2_5": {
     "name": "q2_5",
     "points": null,
     "suites": [
      {
       "cases": [
        {
         "code": ">>> if type(res_q2_5) != pd.core.frame.DataFrame:\n...     res_q2_5 = res_q2_5.DataFrame()\n>>> assert res_q2_5.shape == (7, 4)\n",
         "hidden": false,
         "locked": false
        },
        {
         "code": ">>> if type(res_q2_5) != pd.core.frame.DataFrame:\n...     res_q2_5 = res_q2_5.DataFrame()\n>>> assert 'South Asia' in res_q2_5['country'].tolist()\n",
         "hidden": false,
         "locked": false
        }
       ],
       "scored": true,
       "setup": "",
       "teardown": "",
       "type": "doctest"
      }
     ]
    },
    "q2_6": {
     "name": "q2_6",
     "points": null,
     "suites": [
      {
       "cases": [
        {
         "code": ">>> if type(res_q2_6) != pd.core.frame.DataFrame:\n...     res_q2_6 = res_q2_6.DataFrame()\n>>> assert 'Warning Level' in res_q2_6.columns\n>>> assert res_q2_6.shape == (124, 5)\n",
         "hidden": false,
         "locked": false
        },
        {
         "code": ">>> if type(res_q2_6) != pd.core.frame.DataFrame:\n...     res_q2_6 = res_q2_6.DataFrame()\n>>> assert res_q2_6.loc[res_q2_6['country'] == 'Angola', 'Warning Level'].iloc[0] == 'danger'\n>>> assert res_q2_6.loc[res_q2_6['country'] == 'Afghanistan', 'Warning Level'].iloc[0] == 'safe'\n>>> assert res_q2_6.loc[res_q2_6['country'] == 'Albania', 'Warning Level'].iloc[0] == 'warning'\n",
         "hidden": false,
         "locked": false
        }
       ],
       "scored": true,
       "setup": "",
       "teardown": "",
       "type": "doctest"
      }
     ]
    },
    "q3_1": {
     "name": "q3_1",
     "points": null,
     "suites": [
      {
       "cases": [
        {
         "code": ">>> assert len(q3_1) > 0\n",
         "hidden": false,
         "locked": false
        },
        {
         "code": ">>> assert sum([ord(c) for c in q3_1]) ^ 966984 == 967054\n",
         "hidden": false,
         "locked": false
        }
       ],
       "scored": true,
       "setup": "",
       "teardown": "",
       "type": "doctest"
      }
     ]
    },
    "q3_2": {
     "name": "q3_2",
     "points": null,
     "suites": [
      {
       "cases": [
        {
         "code": ">>> assert len(q3_2) > 0\n",
         "hidden": false,
         "locked": false
        },
        {
         "code": ">>> assert sum([ord(c) for c in q3_2]) ^ 966984 == 966956\n",
         "hidden": false,
         "locked": false
        }
       ],
       "scored": true,
       "setup": "",
       "teardown": "",
       "type": "doctest"
      }
     ]
    },
    "q4": {
     "name": "q4",
     "points": null,
     "suites": [
      {
       "cases": [
        {
         "code": ">>> assert sum([ord(c) for c in codeword]) ^ 966984 == 967606\n",
         "hidden": false,
         "locked": false
        }
       ],
       "scored": true,
       "setup": "",
       "teardown": "",
       "type": "doctest"
      }
     ]
    }
   }
  }
 },
 "nbformat": 4,
 "nbformat_minor": 5
}
